{
  "nbformat": 4,
  "nbformat_minor": 0,
  "metadata": {
    "colab": {
      "name": "Reweighting_Aspiration_Recorrelate_Toy.ipynb",
      "provenance": [],
      "collapsed_sections": [],
      "include_colab_link": true
    },
    "kernelspec": {
      "display_name": "Python 3",
      "name": "python3"
    },
    "language_info": {
      "name": "python"
    },
    "toc": {
      "nav_menu": {},
      "number_sections": false,
      "sideBar": true,
      "skip_h1_title": false,
      "toc_cell": false,
      "toc_position": {
        "height": "635px",
        "left": "0px",
        "right": "1136px",
        "top": "110px",
        "width": "128px"
      },
      "toc_section_display": "block",
      "toc_window_display": true
    },
    "varInspector": {
      "cols": {
        "lenName": 16,
        "lenType": 16,
        "lenVar": 40
      },
      "kernels_config": {
        "python": {
          "delete_cmd_postfix": "",
          "delete_cmd_prefix": "del ",
          "library": "var_list.py",
          "varRefreshCmd": "print(var_dic_list())"
        },
        "r": {
          "delete_cmd_postfix": ") ",
          "delete_cmd_prefix": "rm(",
          "library": "var_list.r",
          "varRefreshCmd": "cat(var_dic_list()) "
        }
      },
      "types_to_exclude": [
        "module",
        "function",
        "builtin_function_or_method",
        "instance",
        "_Feature"
      ],
      "window_display": false
    }
  },
  "cells": [
    {
      "cell_type": "markdown",
      "metadata": {
        "id": "view-in-github",
        "colab_type": "text"
      },
      "source": [
        "<a href=\"https://colab.research.google.com/github/udayman/WhitesonATLASwork/blob/main/Reweighting_Aspiration_Recorrelate_Toy.ipynb\" target=\"_parent\"><img src=\"https://colab.research.google.com/assets/colab-badge.svg\" alt=\"Open In Colab\"/></a>"
      ]
    },
    {
      "cell_type": "markdown",
      "metadata": {
        "id": "90obqi9m1_By"
      },
      "source": [
        ""
      ]
    },
    {
      "cell_type": "markdown",
      "metadata": {
        "id": "A0n5mUs1xJmB"
      },
      "source": [
        "# Standard Imports"
      ]
    },
    {
      "cell_type": "code",
      "metadata": {
        "id": "eauHiVPOxJmH"
      },
      "source": [
        "import numpy as np\n",
        "import pandas as pd\n",
        "import matplotlib.pyplot as plt\n",
        "from IPython import display\n",
        "%matplotlib inline\n",
        "import scipy.stats\n",
        "from scipy.stats import exponnorm\n",
        "#gaussian and lognormal(turn into gaussian+lognormal) plots\n",
        "#save and loading if elses\n"
      ],
      "execution_count": null,
      "outputs": []
    },
    {
      "cell_type": "code",
      "metadata": {
        "colab": {
          "base_uri": "https://localhost:8080/"
        },
        "id": "52Sh12vnaf-i",
        "outputId": "6b4028c3-402e-4db1-b1f8-684271d2565d"
      },
      "source": [
        "!pip install lightgbm\n",
        "import lightgbm as lgb"
      ],
      "execution_count": null,
      "outputs": [
        {
          "output_type": "stream",
          "name": "stdout",
          "text": [
            "Requirement already satisfied: lightgbm in /usr/local/lib/python3.7/dist-packages (2.2.3)\n",
            "Requirement already satisfied: numpy in /usr/local/lib/python3.7/dist-packages (from lightgbm) (1.19.5)\n",
            "Requirement already satisfied: scipy in /usr/local/lib/python3.7/dist-packages (from lightgbm) (1.4.1)\n",
            "Requirement already satisfied: scikit-learn in /usr/local/lib/python3.7/dist-packages (from lightgbm) (0.22.2.post1)\n",
            "Requirement already satisfied: joblib>=0.11 in /usr/local/lib/python3.7/dist-packages (from scikit-learn->lightgbm) (1.0.1)\n"
          ]
        }
      ]
    },
    {
      "cell_type": "code",
      "metadata": {
        "colab": {
          "base_uri": "https://localhost:8080/"
        },
        "id": "e18DEPmheHjj",
        "outputId": "3296ff04-7058-4922-d725-1544e83a36d9"
      },
      "source": [
        "from google.colab import drive\n",
        "drive.mount('/content/gdrive')"
      ],
      "execution_count": null,
      "outputs": [
        {
          "output_type": "stream",
          "name": "stdout",
          "text": [
            "Mounted at /content/gdrive\n"
          ]
        }
      ]
    },
    {
      "cell_type": "code",
      "metadata": {
        "id": "--qrpcYTxJmI"
      },
      "source": [
        "def plot_profile(x,y, ylim=None, range=(0,1), errorBars=True, label=None, color=None, bins=50, offset = 0):\n",
        "   import scipy.stats\n",
        "   import numpy\n",
        "   import matplotlib.pyplot as plt\n",
        "\n",
        "\n",
        "   means_result = scipy.stats.binned_statistic(x, [y, y**2], bins=bins, range=range, statistic='mean')\n",
        "   count_result = scipy.stats.binned_statistic(x, [y, y**2], bins=bins, range=range, statistic='count')\n",
        "   means, means2 = means_result.statistic # mean of y and y^2 in each bin\n",
        "   cmeans, cmeans2 = count_result.statistic\n",
        "   assert (cmeans == cmeans2).all()\n",
        "   standard_deviations = numpy.sqrt(means2 - means**2)\n",
        "   errors = standard_deviations/numpy.sqrt(cmeans)\n",
        "   bin_edges = means_result.bin_edges\n",
        "   bin_centers = (bin_edges[:-1] + bin_edges[1:])/2.\n",
        "   if (errorBars):\n",
        "       plt.errorbar(x=bin_centers + offset, y=means, yerr=errors, linestyle='none', marker='.',color=color,  label=label)\n",
        "   else:\n",
        "       plt.errorbar(x=bin_centers + offset, y=means, yerr=standard_deviations, linestyle='none', marker='.',color=color, label=label)\n",
        "   #\n",
        "   if (ylim != None):\n",
        "       plt.legend()\n",
        "       plt.ylim(ylim)"
      ],
      "execution_count": null,
      "outputs": []
    },
    {
      "cell_type": "markdown",
      "metadata": {
        "id": "vA7nMD4AxJmJ"
      },
      "source": [
        "# Generate Data"
      ]
    },
    {
      "cell_type": "markdown",
      "metadata": {
        "id": "ACRIT-wOxJmJ"
      },
      "source": [
        "1. training dataset, target dataset data: one feature with different behaviour\n",
        "(if population it must have high enough variance to accomodate opposite correlation in subset like california in usa)\n",
        "2. show plots for that feature alone for decision function for two datasets\n",
        "3. (optional) show ideal classifier trained on each, and performance of classifeir trained in source dataset applied to target\n",
        "4. show Aspiration can encorce required 1d correlation\n",
        "5. show overall aspiration poruces similar classifier to one trained on target population, better than decorrelate\n",
        "\n",
        "Imporve the variacne addition\n",
        "\n",
        "!!!! Try double Gaussian which can be solvesd analytically and altered for target !!!!\n",
        "Use better feature2. it should be simple, like a gaussian, that you can guess from first principles instead of this funny combination thing. correlate feature1 and feature 2 without touching feature2, change feature1 instead\n",
        "\n",
        "maybe start simple and add the noisy variacne later or even mixing of features (not completely independent featuers)\n",
        "\n",
        "\n",
        "For aspiration to work not only do you need to know the correlation you want, but also the variance (profile with std, not error). if you had directly added the decorrelation/correlation requirement as second loss this would just reduce scores but by using a second network you estimate the probability--- distance between aspired and true distributions.\n",
        "If instead I train the R only on the means on big batches (like a profile, binned means) then I could remove the variance modelling requirement perhaps.\n",
        "\n",
        "\n",
        "\n",
        "Adjust toy problem: swapping feature 2 directions for source target, number of gaussians, difference beteeen Gaussian centres for feature1 and feature2 (determines how useful each is), gaussian parameters.\n",
        "\n",
        "maybe the 1D classifier is doomed to fail, use a 2D target classifier instead to model the variance?"
      ]
    },
    {
      "cell_type": "code",
      "metadata": {
        "id": "_nrk5yezxJmJ"
      },
      "source": [
        "# useSquareF2 = True\n",
        "correlateF1F2 = True #True is real value\n",
        "# flipTargetF2Direction = True\n",
        "useSquareF2 = False\n",
        "\n",
        "flipTargetF2Direction = False\n",
        "\n",
        "analyticalComplete = False\n",
        "analytical1d = False\n",
        "flipData = False\n",
        "saveD1DT = False\n",
        "saveD1DS = False\n",
        "saveS = False\n",
        "saveT = False\n",
        "saveAspiration = False"
      ],
      "execution_count": null,
      "outputs": []
    },
    {
      "cell_type": "code",
      "metadata": {
        "id": "lVp9STdOxJmK"
      },
      "source": [
        "# Generate source dataset\n",
        "n_source = 10**6\n",
        "#modified values --- feature 1 variance, feature 3 variance, feature 2 variance, noise variance, centres sig and background changed\n",
        "\n",
        "feature1 = np.random.normal(0, 1, n_source) #original feature1\n",
        "feature3 = np.random.normal(0, 1, n_source) #original feature3\n",
        "#feature1 = np.random.normal(0, 0, n_source) \n",
        "#feature3 = np.random.normal(0, 0, n_source)\n",
        "\n",
        "if useSquareF2:\n",
        "    feature2 = np.random.normal(0, 3, n_source) **2\n",
        "else:\n",
        "    #feature2 = np.concatenate([np.random.normal(0, 0.5, 9998 * n_source//10000), np.random.uniform(1.5, 5, 2 * n_source//10000)])\n",
        "    #np.random.shuffle(feature2)\n",
        "    #feature2 = np.random.normal(2.5, 2, n_source) #increasing feature 2 variance to 2 from 1\n",
        "    feature2 = np.random.normal(0, 0.5, n_source) #original 2\n",
        "#noise = np.random.normal(0, 1, n_source)\n",
        "\n",
        "centres_sig_f1 = np.sin(feature2[:n_source//2])\n",
        "centres_back_f1 = -np.sin(feature2[n_source//2:])\n",
        "\n",
        "centres_sig_f3 = np.cos(feature2[:n_source//2])\n",
        "centres_back_f3 = -np.cos(feature2[n_source//2:])\n",
        "\n",
        "centres_sig_f2 = 0.3\n",
        "centres_back_f2 = -0.3\n",
        "\n",
        "feature1[:n_source//2] += centres_sig_f1\n",
        "feature1[n_source//2:] += centres_back_f1\n",
        "feature2[:n_source//2] += centres_sig_f2\n",
        "feature2[n_source//2:] += centres_back_f2\n",
        "feature3[:n_source//2] += centres_sig_f3\n",
        "feature3[n_source//2:] += centres_back_f3\n",
        "\n",
        "'''\n",
        "if correlateF1F2:\n",
        "    #reduce noise variance, \n",
        "    #noise = np.random.normal(1, 0.5, n_source) #trying to increase noise from 0.5 to 1.5\n",
        "    #noise = np.random.normal(1, 0.1, n_source)\n",
        "    \n",
        "    \n",
        "    noise = np.random.normal(1, 0.1, n_source) #originally was 1\n",
        "    #noise = np.random.normal(1, 0, n_source)\n",
        "    feature1 += noise*feature2\n",
        "    feature3 += noise*feature2\n",
        "'''\n",
        "\n",
        "X_source = np.vstack( [feature1, feature2, feature3]).T\n",
        "Y_source = np.ones(len(X_source))\n",
        "Y_source[n_source//2:] = 0\n",
        "\n"
      ],
      "execution_count": null,
      "outputs": []
    },
    {
      "cell_type": "code",
      "metadata": {
        "colab": {
          "base_uri": "https://localhost:8080/",
          "height": 295
        },
        "id": "WTy-Jg15Ij8t",
        "outputId": "de3db354-5614-40bb-da42-d8c934ac5d58"
      },
      "source": [
        "plt.title(\"Source Background Dataset\")\n",
        "plt.hist2d(X_source[n_source//2:,0], X_source[n_source//2:,2], bins=50, range=[[-3,3],[-3,3]])\n",
        "plt.xlabel(\"Feature 1\")\n",
        "plt.ylabel(\"Feature 3\")\n",
        "plt.savefig(\"gdrive/MyDrive/ToyPlots/sourcebackgroundf1f3.png\")\n",
        "plt.show()"
      ],
      "execution_count": null,
      "outputs": [
        {
          "output_type": "display_data",
          "data": {
            "image/png": "[encoded data removed]",
            "text/plain": [
              "<Figure size 432x288 with 1 Axes>"
            ]
          },
          "metadata": {
            "needs_background": "light"
          }
        }
      ]
    },
    {
      "cell_type": "code",
      "metadata": {
        "colab": {
          "base_uri": "https://localhost:8080/",
          "height": 295
        },
        "id": "bEWh2hzNHOEy",
        "outputId": "7a057ad0-f9bc-4758-aca1-2b8e3cab69cc"
      },
      "source": [
        "plt.title(\"Source Signal Dataset\")\n",
        "plt.hist2d(X_source[:n_source//2,0], X_source[:n_source//2,2], bins=50, range=[[-2,2],[-2,2]])\n",
        "plt.xlabel(\"Feature 1\")\n",
        "plt.ylabel(\"Feature 3\")\n",
        "plt.savefig(\"gdrive/MyDrive/ToyPlots/sourcesignalf1f3.png\")\n",
        "plt.show()"
      ],
      "execution_count": null,
      "outputs": [
        {
          "output_type": "display_data",
          "data": {
            "image/png": "[encoded data removed]",
            "text/plain": [
              "<Figure size 432x288 with 1 Axes>"
            ]
          },
          "metadata": {
            "needs_background": "light"
          }
        }
      ]
    },
    {
      "cell_type": "code",
      "metadata": {
        "id": "wZJ7C39uxJmL"
      },
      "source": [
        "# Generate target dataset\n",
        "#modified values -- f2G params [1] variance and feature 1 and feature3 variance\n",
        "n_target = n_source\n",
        "#f2Gparams = np.array([[-1.5,2],[0.5,1]]) #increasing [1] to 2.5 from 1.5 //original first [-1.5,1] //something weird happening with 4.5\n",
        "\n",
        "\n",
        "feature1 = np.random.normal(0, 1, n_target) #original feature1\n",
        "feature3 = np.random.normal(0, 1, n_target) #original feature3\n",
        "\n",
        "#feature3 = np.random.normal(0, 0, n_target) \n",
        "#feature1 = np.random.normal(0, 0, n_target)\n",
        "\n",
        "if useSquareF2:\n",
        "    feature2 = np.random.lognormal(2.5, 1.5, n_target) # different\n",
        "else:\n",
        "    #feature2 = np.random.lognormal(3, 10, n_target)\n",
        "    #feature2 = np.random.normal(np.pi/2, np.pi/3, n_target)\n",
        "    feature2 = np.random.normal(np.pi/2, 0.4, n_target)\n",
        "    #feature2 = np.concatenate([np.random.lognormal(0, 0.5, 4 * n_target//5), np.random.normal(0, 1.5, n_target//5)])\n",
        "    #feature2 = np.concatenate(\n",
        "        #[np.random.normal(f2Gparams[0,0], f2Gparams[0,1], n_source//2), \n",
        "         #np.random.normal(f2Gparams[1,0], f2Gparams[1,1], n_source//2)] ) # different\n",
        "    #feature2 = np.concatenate(\n",
        "        #[np.random.normal(np.pi/2, np.pi/3, 9998 * n_target//10000), \n",
        "         #np.random.uniform(1.5, 5, 2 * n_target//10000)] ) # different\n",
        "    #np.random.shuffle(feature2)\n",
        "\n",
        "\n",
        "#flipped here\n",
        "centres_sig_f1_target = np.sin(feature2[:n_target//2])\n",
        "centres_back_f1_target = -np.sin(feature2[n_target//2:])\n",
        "\n",
        "centres_sig_f3_target = np.cos(feature2[:n_target//2])\n",
        "centres_back_f3_target = -np.cos(feature2[n_target//2:])\n",
        "\n",
        "feature1[:n_target//2] += centres_sig_f1_target\n",
        "feature1[n_target//2:] += centres_back_f1_target\n",
        "feature2[:n_source//2] += centres_sig_f2\n",
        "feature2[n_source//2:] += centres_back_f2\n",
        "feature3[:n_target//2] += centres_sig_f3_target\n",
        "feature3[n_target//2:] += centres_back_f3_target\n",
        "\n",
        "\n",
        "'''\n",
        "if correlateF1F2:\n",
        "    #feature2[:n_target//2] += 0.4 #to add more seperation with signal and target, add to signal\n",
        "    noise = np.random.normal(1, 0.1, n_target) #turn noise first then turn on feature1 and feature3, original noise\n",
        "    \n",
        "    #noise = np.random.normal(1, 0, n_target)\n",
        "    feature1 += noise*feature2\n",
        "    feature3 += noise*feature2\n",
        "'''\n",
        "    \n",
        "'''\n",
        "if flipTargetF2Direction:\n",
        "    centres_sig_target[1] = centres_back[1]\n",
        "    centres_back_target[1] = centres_sig[1]\n",
        "'''\n",
        "\n",
        "X_target = np.vstack( [feature1, feature2, feature3]).T\n",
        "Y_target = np.ones(len(X_target))\n",
        "Y_target[n_target//2:] = 0"
      ],
      "execution_count": null,
      "outputs": []
    },
    {
      "cell_type": "code",
      "metadata": {
        "colab": {
          "base_uri": "https://localhost:8080/",
          "height": 295
        },
        "id": "YN5gzoo7Hyyz",
        "outputId": "29789fc8-b1b8-40de-f3b8-81f735620cd2"
      },
      "source": [
        "plt.title(\"Target Background Dataset\")\n",
        "plt.hist2d(X_target[n_target//2:,0], X_target[n_target//2:,2], bins=50, range=[[-2,2],[-2,2]])\n",
        "plt.xlabel(\"Feature 1\")\n",
        "plt.ylabel(\"Feature 3\")\n",
        "plt.savefig(\"gdrive/MyDrive/ToyPlots/targetbackgroundf1f3.png\")\n",
        "plt.show()"
      ],
      "execution_count": null,
      "outputs": [
        {
          "output_type": "display_data",
          "data": {
            "image/png": "[encoded data removed]",
            "text/plain": [
              "<Figure size 432x288 with 1 Axes>"
            ]
          },
          "metadata": {
            "needs_background": "light"
          }
        }
      ]
    },
    {
      "cell_type": "code",
      "metadata": {
        "colab": {
          "base_uri": "https://localhost:8080/",
          "height": 295
        },
        "id": "dgBXVIiUH4sj",
        "outputId": "357088fd-66c5-488d-86b2-f1ee1ab1ab87"
      },
      "source": [
        "plt.title(\"Target Signal Dataset\")\n",
        "plt.hist2d(X_target[:n_target//2,0], X_target[:n_target//2,2], bins=50, range=[[-2,2],[-2,2]])\n",
        "plt.xlabel(\"Feature 1\")\n",
        "plt.ylabel(\"Feature 3\")\n",
        "plt.savefig(\"gdrive/MyDrive/ToyPlots/targetsignalf1f3.png\")\n",
        "plt.show()"
      ],
      "execution_count": null,
      "outputs": [
        {
          "output_type": "display_data",
          "data": {
            "image/png": "[encoded data removed]",
            "text/plain": [
              "<Figure size 432x288 with 1 Axes>"
            ]
          },
          "metadata": {
            "needs_background": "light"
          }
        }
      ]
    },
    {
      "cell_type": "code",
      "metadata": {
        "colab": {
          "base_uri": "https://localhost:8080/",
          "height": 269
        },
        "id": "3yr5S_0vExrO",
        "outputId": "c70d0936-cc6f-49b9-e941-e5e7cc5594c7"
      },
      "source": [
        "counts_sb,ybins_sb,xbins_sb,image_sb = plt.hist2d(X_source[n_source//2:,0], X_source[n_source//2:,2], bins=50, range=[[-3,3],[-3,3]])\n",
        "counts_ss,ybins_ss,xbins_ss,image_ss = plt.hist2d(X_source[:n_source//2,0], X_source[:n_source//2,2], bins=50, range=[[-3,3],[-3,3]])\n",
        "counts_tb,ybins_tb,xbins_tb,image_tb = plt.hist2d(X_target[n_target//2:,0], X_target[n_target//2:,2], bins=50, range=[[-3,3],[-3,3]])\n",
        "counts_ts,ybins_ts,xbins_ts,image_ts = plt.hist2d(X_target[:n_target//2,0], X_target[:n_target//2,2], bins=50, range=[[-3,3],[-3,3]])\n",
        "plt.show()"
      ],
      "execution_count": null,
      "outputs": [
        {
          "output_type": "display_data",
          "data": {
            "image/png": "[encoded data removed]",
            "text/plain": [
              "<Figure size 432x288 with 1 Axes>"
            ]
          },
          "metadata": {
            "needs_background": "light"
          }
        }
      ]
    },
    {
      "cell_type": "code",
      "metadata": {
        "colab": {
          "base_uri": "https://localhost:8080/",
          "height": 295
        },
        "id": "sl-a1hk4q_WJ",
        "outputId": "f96dd031-140f-4a3a-9086-c681ad128c14"
      },
      "source": [
        "import matplotlib.patches as mpatches\n",
        "\n",
        "plt.title(\"Dataset applied to all contours\")\n",
        "#counts,ybins,xbins,image = plt.hist2d(X_source[n_source//2:,0], X_source[n_source//2:,2], bins=50, range=[[-3,3],[-3,3]])\n",
        "plt.contour(counts_sb.transpose(),extent=[xbins_sb.min(),xbins_sb.max(),ybins_sb.min(),ybins_sb.max()],linewidths=1, levels = 3, colors='red')\n",
        "plt.contour(counts_ss.transpose(),extent=[xbins_ss.min(),xbins_ss.max(),ybins_ss.min(),ybins_ss.max()],linewidths=1, levels = 3, colors='blue')\n",
        "plt.contour(counts_tb.transpose(),extent=[xbins_tb.min(),xbins_tb.max(),ybins_tb.min(),ybins_tb.max()],linewidths=1, levels = 3, colors='black')\n",
        "plt.contour(counts_ts.transpose(),extent=[xbins_ts.min(),xbins_ts.max(),ybins_ts.min(),ybins_ts.max()],linewidths=1, levels = 3, colors='green')\n",
        "plt.xlabel(\"Feature 1\")\n",
        "plt.ylabel(\"Feature 3\")\n",
        "red_patch = mpatches.Patch(color='red', label='Source background')\n",
        "blue_patch = mpatches.Patch(color='blue', label='Source signal')\n",
        "black_patch = mpatches.Patch(color='black', label='Target background')\n",
        "green_patch = mpatches.Patch(color='green', label='Target signal')\n",
        "plt.legend(handles=[red_patch, blue_patch, black_patch, green_patch])\n",
        "plt.savefig(\"gdrive/MyDrive/ToyPlots/sourcebackgroundf1f3.png\")\n",
        "plt.show()"
      ],
      "execution_count": null,
      "outputs": [
        {
          "output_type": "display_data",
          "data": {
            "image/png": "[encoded data removed]",
            "text/plain": [
              "<Figure size 432x288 with 1 Axes>"
            ]
          },
          "metadata": {
            "needs_background": "light"
          }
        }
      ]
    },
    {
      "cell_type": "code",
      "metadata": {
        "id": "tKq0JhJuXrXb"
      },
      "source": [
        "if flipData:\n",
        "  tempx = X_source.copy()\n",
        "  tempy = Y_source.copy()\n",
        "  X_source = X_target.copy()\n",
        "  Y_source = Y_target.copy()\n",
        "  X_target = tempx.copy()\n",
        "  Y_target = tempy.copy()"
      ],
      "execution_count": null,
      "outputs": []
    },
    {
      "cell_type": "code",
      "metadata": {
        "colab": {
          "base_uri": "https://localhost:8080/",
          "height": 281
        },
        "id": "6xeSZq0xc3d9",
        "outputId": "6b21e115-04c5-4366-e015-a78a5a729288"
      },
      "source": [
        "plt_range = (-5,5)\n",
        "\n",
        "plt.title(\"Source vs Target Feature 1\")\n",
        "plt.hist(X_source[:n_source//2,0], bins=50, density=1, histtype = \"step\", label=\"source signal\", range = plt_range)\n",
        "plt.hist(X_target[:n_source//2,0], bins=50, density=1, histtype = \"step\", label=\"target signal\", range = plt_range)\n",
        "plt.hist(X_source[n_source//2:,0], bins=50, density=1, histtype = \"step\", label=\"source background\", range = plt_range)\n",
        "plt.hist(X_target[n_source//2:,0], bins=50, density=1, histtype = \"step\", label=\"target background\", range = plt_range)\n",
        "plt.legend()\n",
        "plt.show()"
      ],
      "execution_count": null,
      "outputs": [
        {
          "output_type": "display_data",
          "data": {
            "image/png": "[encoded data removed]",
            "text/plain": [
              "<Figure size 432x288 with 1 Axes>"
            ]
          },
          "metadata": {
            "needs_background": "light"
          }
        }
      ]
    },
    {
      "cell_type": "code",
      "metadata": {
        "colab": {
          "base_uri": "https://localhost:8080/",
          "height": 281
        },
        "id": "sUZYQo2Rg1MI",
        "outputId": "feab903b-adbf-4de7-a0b7-1f179ff66edf"
      },
      "source": [
        "plt.title(\"Source vs Target Feature 2\")\n",
        "plt.hist(X_source[:n_source//2,1], bins=50, density=1, histtype = \"step\", label=\"source signal\", range = plt_range)\n",
        "plt.hist(X_target[:n_source//2,1], bins=50, density=1, histtype = \"step\", label=\"target signal\", range = plt_range)\n",
        "plt.hist(X_source[n_source//2:,1], bins=50, density=1, histtype = \"step\", label=\"source background\", range = plt_range)\n",
        "plt.hist(X_target[n_source//2:,1], bins=50, density=1, histtype = \"step\", label=\"target background\", range = plt_range)\n",
        "plt.legend()\n",
        "plt.savefig(\"gdrive/MyDrive/ToyPlots/sourcetargetf2.png\")\n",
        "plt.show()"
      ],
      "execution_count": null,
      "outputs": [
        {
          "output_type": "display_data",
          "data": {
            "image/png": "[encoded data removed]",
            "text/plain": [
              "<Figure size 432x288 with 1 Axes>"
            ]
          },
          "metadata": {
            "needs_background": "light"
          }
        }
      ]
    },
    {
      "cell_type": "code",
      "metadata": {
        "colab": {
          "base_uri": "https://localhost:8080/"
        },
        "id": "By-1gwh_8nAK",
        "outputId": "7c9f0be5-6582-45a0-cc7c-938625bdb142"
      },
      "source": [
        "len(X_source[X_source[:,1]>1.9]) #source"
      ],
      "execution_count": null,
      "outputs": [
        {
          "output_type": "execute_result",
          "data": {
            "text/plain": [
              "328"
            ]
          },
          "metadata": {},
          "execution_count": 17
        }
      ]
    },
    {
      "cell_type": "code",
      "metadata": {
        "colab": {
          "base_uri": "https://localhost:8080/",
          "height": 281
        },
        "id": "Kt2bikOng4pC",
        "outputId": "afd42edd-267e-4e8b-8566-cdb74327a050"
      },
      "source": [
        "plt.title(\"Source vs Target Feature 3\")\n",
        "plt.hist(X_source[:n_source//2,2], bins=50, density=1, histtype = \"step\", label=\"source signal\", range = plt_range)\n",
        "plt.hist(X_target[:n_source//2,2], bins=50, density=1, histtype = \"step\", label=\"target signal\", range = plt_range)\n",
        "plt.hist(X_source[n_source//2:,2], bins=50, density=1, histtype = \"step\", label=\"source background\", range = plt_range)\n",
        "plt.hist(X_target[n_source//2:,2], bins=50, density=1, histtype = \"step\", label=\"target background\", range = plt_range)\n",
        "plt.legend()\n",
        "plt.show()"
      ],
      "execution_count": null,
      "outputs": [
        {
          "output_type": "display_data",
          "data": {
            "image/png": "[encoded data removed]",
            "text/plain": [
              "<Figure size 432x288 with 1 Axes>"
            ]
          },
          "metadata": {
            "needs_background": "light"
          }
        }
      ]
    },
    {
      "cell_type": "markdown",
      "metadata": {
        "id": "tLVzBkVaxJmO"
      },
      "source": [
        "### Split Train-Test"
      ]
    },
    {
      "cell_type": "code",
      "metadata": {
        "id": "pB20C1BrxJmP"
      },
      "source": [
        "from sklearn.model_selection import train_test_split\n",
        "#from sklearn.preprocessing import StandardScaler\n",
        "train_size = 0.75 # 0.1 # !!!\n",
        "X_s_train, X_s_test, y_s_train, y_s_test, = \\\n",
        "    train_test_split(X_source, Y_source, train_size=train_size, shuffle=True, random_state=1)\n",
        "# do target seprately so they are not shuffled in unison\n",
        "X_t_train, X_t_test, y_t_train, y_t_test, = \\\n",
        "    train_test_split(X_target, Y_target, train_size=train_size, shuffle=True, random_state=2)"
      ],
      "execution_count": null,
      "outputs": []
    },
    {
      "cell_type": "code",
      "metadata": {
        "colab": {
          "base_uri": "https://localhost:8080/"
        },
        "id": "O_-tfzRm7lcw",
        "outputId": "b9ebd8a9-879c-45ce-fe64-84cc0e6a8745"
      },
      "source": [
        "X_source[:,1]"
      ],
      "execution_count": null,
      "outputs": [
        {
          "output_type": "execute_result",
          "data": {
            "text/plain": [
              "array([ 0.77331788,  0.50705574,  0.12556691, ..., -1.14774109,\n",
              "       -0.07230097, -0.61648578])"
            ]
          },
          "metadata": {},
          "execution_count": 20
        }
      ]
    },
    {
      "cell_type": "markdown",
      "metadata": {
        "id": "sUxo7c9kzXq_"
      },
      "source": [
        "##Train on Signal with Mass only"
      ]
    },
    {
      "cell_type": "code",
      "metadata": {
        "colab": {
          "base_uri": "https://localhost:8080/"
        },
        "id": "fgo5pP9mzXSS",
        "outputId": "275d17d3-db2b-47e2-b1d6-56c9d7a7dd19"
      },
      "source": [
        "from tensorflow import keras\n",
        "from tensorflow.keras.layers import Input, Dense\n",
        "from tensorflow.keras.models import Model\n",
        "from sklearn.metrics import roc_auc_score\n",
        "\n",
        "'''\n",
        "inputs = Input(shape=(1,))\n",
        "Dx = Dense(300, activation=\"relu\")(inputs)\n",
        "Dx = Dense(300, activation=\"relu\")(Dx)\n",
        "Dx = Dense(300, activation=\"relu\")(Dx)\n",
        "#Dx = Dense(32, activation=\"relu\")(Dx)\n",
        "#Dx = Dense(32, activation=\"relu\")(Dx)\n",
        "#Dx = Dense(32, activation=\"relu\")(Dx)\n",
        "Dx = Dense(1, activation=\"sigmoid\")(Dx)\n",
        "D1DSigM = Model(inputs=[inputs], outputs=[Dx])\n",
        "D1DSigM.compile(loss=\"binary_crossentropy\", optimizer=\"adam\")\n",
        "'''\n",
        "\n",
        "D1DSigM = lgb.LGBMClassifier(\n",
        "       objective='binary')\n",
        "X_sigM = np.concatenate((X_source[:n_source//2,1], X_target[:n_target//2,1]))\n",
        "y_sigM = np.concatenate((np.zeros(len(X_source) - n_source//2), np.ones(len(X_target) - n_target//2)))\n",
        "\n",
        "shuffler = np.random.permutation(len(X_sigM))\n",
        "X_sigM = X_sigM[shuffler]\n",
        "y_sigM = y_sigM[shuffler]\n",
        "#D1DSigM.fit(X_sigM, y_sigM)\n",
        "D1DSigM.fit(X_sigM.reshape(-1, 1), y_sigM) #from 2"
      ],
      "execution_count": null,
      "outputs": [
        {
          "output_type": "execute_result",
          "data": {
            "text/plain": [
              "LGBMClassifier(boosting_type='gbdt', class_weight=None, colsample_bytree=1.0,\n",
              "               importance_type='split', learning_rate=0.1, max_depth=-1,\n",
              "               min_child_samples=20, min_child_weight=0.001, min_split_gain=0.0,\n",
              "               n_estimators=100, n_jobs=-1, num_leaves=31, objective='binary',\n",
              "               random_state=None, reg_alpha=0.0, reg_lambda=0.0, silent=True,\n",
              "               subsample=1.0, subsample_for_bin=200000, subsample_freq=0)"
            ]
          },
          "metadata": {},
          "execution_count": 21
        }
      ]
    },
    {
      "cell_type": "code",
      "metadata": {
        "id": "RbqV5x5OW2dg",
        "colab": {
          "base_uri": "https://localhost:8080/",
          "height": 281
        },
        "outputId": "77a36fb1-63e9-48b2-897d-f2624cb287c8"
      },
      "source": [
        "weight_result = D1DSigM.predict_proba(X_source[:n_source//2,1].reshape(-1,1))[:, 1]\n",
        "#weight_result = D1DSigM.predict(X_source[:n_source//2,1])\n",
        "sample_weight_signal_source = 1/((1/weight_result)-1) #manipulating equation\n",
        "\n",
        "plt.title(\"Signal plots with reweighting\")\n",
        "plt.hist(X_source[:n_source//2,0], bins=50, density=1, histtype = \"step\", label=\"source signal\", range = plt_range)\n",
        "plt.hist(X_target[:n_target//2,0], bins=50, density=1, histtype = \"step\", label=\"target signal\", range = plt_range)\n",
        "plt.hist(X_source[:n_source//2,0], bins=50, density=1, histtype = \"step\", label=\"source signal weighted\", weights = sample_weight_signal_source, range = plt_range)\n",
        "plt.legend()\n",
        "plt.show()"
      ],
      "execution_count": null,
      "outputs": [
        {
          "output_type": "display_data",
          "data": {
            "image/png": "[encoded data removed]",
            "text/plain": [
              "<Figure size 432x288 with 1 Axes>"
            ]
          },
          "metadata": {
            "needs_background": "light"
          }
        }
      ]
    },
    {
      "cell_type": "code",
      "metadata": {
        "id": "TSijWcEkBxck",
        "colab": {
          "base_uri": "https://localhost:8080/",
          "height": 281
        },
        "outputId": "43d7a8a1-f0cf-4549-c0d0-d9a11179f390"
      },
      "source": [
        "plt.title(\"Signal plots with reweighting\")\n",
        "plt.hist(X_source[:n_source//2,1], bins=50, density=1, histtype = \"step\", label=\"source signal\", range = plt_range)\n",
        "plt.hist(X_target[:n_target//2,1], bins=50, density=1, histtype = \"step\", label=\"target signal\", range = plt_range)\n",
        "plt.hist(X_source[:n_source//2,1], bins=50, density=1, histtype = \"step\", label=\"source signal weighted\", weights = sample_weight_signal_source, range = plt_range)\n",
        "plt.legend()\n",
        "plt.show()"
      ],
      "execution_count": null,
      "outputs": [
        {
          "output_type": "display_data",
          "data": {
            "image/png": "[encoded data removed]",
            "text/plain": [
              "<Figure size 432x288 with 1 Axes>"
            ]
          },
          "metadata": {
            "needs_background": "light"
          }
        }
      ]
    },
    {
      "cell_type": "code",
      "metadata": {
        "id": "2XyklmBBWyan",
        "colab": {
          "base_uri": "https://localhost:8080/",
          "height": 281
        },
        "outputId": "aa5b0e9a-f67c-44cc-8b31-130d291254d6"
      },
      "source": [
        "plt.title(\"Signal plots with reweighting\")\n",
        "plt.hist(X_source[:n_source//2,2], bins=50, density=1, histtype = \"step\", label=\"source signal\", range = plt_range)\n",
        "plt.hist(X_target[:n_target//2,2], bins=50, density=1, histtype = \"step\", label=\"target signal\", range = plt_range)\n",
        "plt.hist(X_source[:n_source//2,2], bins=50, density=1, histtype = \"step\", label=\"source signal weighted\", weights = sample_weight_signal_source, range = plt_range)\n",
        "plt.legend()\n",
        "plt.show()"
      ],
      "execution_count": null,
      "outputs": [
        {
          "output_type": "display_data",
          "data": {
            "image/png": "[encoded data removed]",
            "text/plain": [
              "<Figure size 432x288 with 1 Axes>"
            ]
          },
          "metadata": {
            "needs_background": "light"
          }
        }
      ]
    },
    {
      "cell_type": "code",
      "metadata": {
        "id": "CcO4mkDW6nn5"
      },
      "source": [
        "#print(sum(sample_weight_signal_source[X_source[:n_source//2,2]>13]))"
      ],
      "execution_count": null,
      "outputs": []
    },
    {
      "cell_type": "code",
      "metadata": {
        "id": "dSamx4wU89P7"
      },
      "source": [
        "#print(sum(sample_weight_signal_source[X_source[:n_source//2,2]>13])/ sum(sample_weight_signal_source))"
      ],
      "execution_count": null,
      "outputs": []
    },
    {
      "cell_type": "markdown",
      "metadata": {
        "id": "RXvOxb4N44Bw"
      },
      "source": [
        "##Train on Signal Background only"
      ]
    },
    {
      "cell_type": "code",
      "metadata": {
        "id": "7ghV1Vfq4Nl2",
        "colab": {
          "base_uri": "https://localhost:8080/",
          "height": 367
        },
        "outputId": "8b283445-cd64-4652-9643-2bd232524604"
      },
      "source": [
        "#do same for background\n",
        "from tensorflow import keras\n",
        "from tensorflow.keras.layers import Input, Dense\n",
        "from tensorflow.keras.models import Model\n",
        "from sklearn.metrics import roc_auc_score\n",
        "\n",
        "'''\n",
        "inputs = Input(shape=(1,))\n",
        "Dx = Dense(300, activation=\"relu\")(inputs)\n",
        "Dx = Dense(300, activation=\"relu\")(Dx)\n",
        "Dx = Dense(300, activation=\"relu\")(Dx)\n",
        "#Dx = Dense(32, activation=\"relu\")(Dx)\n",
        "#Dx = Dense(32, activation=\"relu\")(Dx)\n",
        "#Dx = Dense(32, activation=\"relu\")(Dx)\n",
        "Dx = Dense(1, activation=\"sigmoid\")(Dx)\n",
        "D1DBackM = Model(inputs=[inputs], outputs=[Dx])\n",
        "D1DBackM.compile(loss=\"binary_crossentropy\", optimizer=\"adam\")\n",
        "'''\n",
        "D1DBackM = lgb.LGBMClassifier(\n",
        "       objective='binary')\n",
        "\n",
        "\n",
        "X_backM = np.concatenate((X_source[n_source//2:,1], X_target[n_target//2:,1]))\n",
        "y_backM = np.concatenate((np.zeros(len(X_source[n_source//2:,])), np.ones(len(X_target[n_target//2:,]))))\n",
        "shuffler = np.random.permutation(len(X_backM))\n",
        "X_backM = X_backM[shuffler]\n",
        "y_backM = y_backM[shuffler]\n",
        "D1DBackM.fit(X_backM.reshape(-1, 1), y_backM)\n",
        "#D1DBackM.fit(X_backM, y_backM)"
      ],
      "execution_count": null,
      "outputs": [
        {
          "output_type": "error",
          "ename": "KeyboardInterrupt",
          "evalue": "ignored",
          "traceback": [
            "\u001b[0;31m---------------------------------------------------------------------------\u001b[0m",
            "\u001b[0;31mKeyboardInterrupt\u001b[0m                         Traceback (most recent call last)",
            "\u001b[0;32m<ipython-input-27-e54514547532>\u001b[0m in \u001b[0;36m<module>\u001b[0;34m()\u001b[0m\n\u001b[1;32m     26\u001b[0m \u001b[0mX_backM\u001b[0m \u001b[0;34m=\u001b[0m \u001b[0mX_backM\u001b[0m\u001b[0;34m[\u001b[0m\u001b[0mshuffler\u001b[0m\u001b[0;34m]\u001b[0m\u001b[0;34m\u001b[0m\u001b[0;34m\u001b[0m\u001b[0m\n\u001b[1;32m     27\u001b[0m \u001b[0my_backM\u001b[0m \u001b[0;34m=\u001b[0m \u001b[0my_backM\u001b[0m\u001b[0;34m[\u001b[0m\u001b[0mshuffler\u001b[0m\u001b[0;34m]\u001b[0m\u001b[0;34m\u001b[0m\u001b[0;34m\u001b[0m\u001b[0m\n\u001b[0;32m---> 28\u001b[0;31m \u001b[0mD1DBackM\u001b[0m\u001b[0;34m.\u001b[0m\u001b[0mfit\u001b[0m\u001b[0;34m(\u001b[0m\u001b[0mX_backM\u001b[0m\u001b[0;34m.\u001b[0m\u001b[0mreshape\u001b[0m\u001b[0;34m(\u001b[0m\u001b[0;34m-\u001b[0m\u001b[0;36m1\u001b[0m\u001b[0;34m,\u001b[0m \u001b[0;36m1\u001b[0m\u001b[0;34m)\u001b[0m\u001b[0;34m,\u001b[0m \u001b[0my_backM\u001b[0m\u001b[0;34m)\u001b[0m\u001b[0;34m\u001b[0m\u001b[0;34m\u001b[0m\u001b[0m\n\u001b[0m\u001b[1;32m     29\u001b[0m \u001b[0;31m#D1DBackM.fit(X_backM, y_backM)\u001b[0m\u001b[0;34m\u001b[0m\u001b[0;34m\u001b[0m\u001b[0;34m\u001b[0m\u001b[0m\n",
            "\u001b[0;32m/usr/local/lib/python3.7/dist-packages/lightgbm/sklearn.py\u001b[0m in \u001b[0;36mfit\u001b[0;34m(self, X, y, sample_weight, init_score, eval_set, eval_names, eval_sample_weight, eval_class_weight, eval_init_score, eval_metric, early_stopping_rounds, verbose, feature_name, categorical_feature, callbacks)\u001b[0m\n\u001b[1;32m    742\u001b[0m                                         \u001b[0mverbose\u001b[0m\u001b[0;34m=\u001b[0m\u001b[0mverbose\u001b[0m\u001b[0;34m,\u001b[0m \u001b[0mfeature_name\u001b[0m\u001b[0;34m=\u001b[0m\u001b[0mfeature_name\u001b[0m\u001b[0;34m,\u001b[0m\u001b[0;34m\u001b[0m\u001b[0;34m\u001b[0m\u001b[0m\n\u001b[1;32m    743\u001b[0m                                         \u001b[0mcategorical_feature\u001b[0m\u001b[0;34m=\u001b[0m\u001b[0mcategorical_feature\u001b[0m\u001b[0;34m,\u001b[0m\u001b[0;34m\u001b[0m\u001b[0;34m\u001b[0m\u001b[0m\n\u001b[0;32m--> 744\u001b[0;31m                                         callbacks=callbacks)\n\u001b[0m\u001b[1;32m    745\u001b[0m         \u001b[0;32mreturn\u001b[0m \u001b[0mself\u001b[0m\u001b[0;34m\u001b[0m\u001b[0;34m\u001b[0m\u001b[0m\n\u001b[1;32m    746\u001b[0m \u001b[0;34m\u001b[0m\u001b[0m\n",
            "\u001b[0;32m/usr/local/lib/python3.7/dist-packages/lightgbm/sklearn.py\u001b[0m in \u001b[0;36mfit\u001b[0;34m(self, X, y, sample_weight, init_score, group, eval_set, eval_names, eval_sample_weight, eval_class_weight, eval_init_score, eval_group, eval_metric, early_stopping_rounds, verbose, feature_name, categorical_feature, callbacks)\u001b[0m\n\u001b[1;32m    542\u001b[0m                               \u001b[0mverbose_eval\u001b[0m\u001b[0;34m=\u001b[0m\u001b[0mverbose\u001b[0m\u001b[0;34m,\u001b[0m \u001b[0mfeature_name\u001b[0m\u001b[0;34m=\u001b[0m\u001b[0mfeature_name\u001b[0m\u001b[0;34m,\u001b[0m\u001b[0;34m\u001b[0m\u001b[0;34m\u001b[0m\u001b[0m\n\u001b[1;32m    543\u001b[0m                               \u001b[0mcategorical_feature\u001b[0m\u001b[0;34m=\u001b[0m\u001b[0mcategorical_feature\u001b[0m\u001b[0;34m,\u001b[0m\u001b[0;34m\u001b[0m\u001b[0;34m\u001b[0m\u001b[0m\n\u001b[0;32m--> 544\u001b[0;31m                               callbacks=callbacks)\n\u001b[0m\u001b[1;32m    545\u001b[0m \u001b[0;34m\u001b[0m\u001b[0m\n\u001b[1;32m    546\u001b[0m         \u001b[0;32mif\u001b[0m \u001b[0mevals_result\u001b[0m\u001b[0;34m:\u001b[0m\u001b[0;34m\u001b[0m\u001b[0;34m\u001b[0m\u001b[0m\n",
            "\u001b[0;32m/usr/local/lib/python3.7/dist-packages/lightgbm/engine.py\u001b[0m in \u001b[0;36mtrain\u001b[0;34m(params, train_set, num_boost_round, valid_sets, valid_names, fobj, feval, init_model, feature_name, categorical_feature, early_stopping_rounds, evals_result, verbose_eval, learning_rates, keep_training_booster, callbacks)\u001b[0m\n\u001b[1;32m    216\u001b[0m                                     evaluation_result_list=None))\n\u001b[1;32m    217\u001b[0m \u001b[0;34m\u001b[0m\u001b[0m\n\u001b[0;32m--> 218\u001b[0;31m         \u001b[0mbooster\u001b[0m\u001b[0;34m.\u001b[0m\u001b[0mupdate\u001b[0m\u001b[0;34m(\u001b[0m\u001b[0mfobj\u001b[0m\u001b[0;34m=\u001b[0m\u001b[0mfobj\u001b[0m\u001b[0;34m)\u001b[0m\u001b[0;34m\u001b[0m\u001b[0;34m\u001b[0m\u001b[0m\n\u001b[0m\u001b[1;32m    219\u001b[0m \u001b[0;34m\u001b[0m\u001b[0m\n\u001b[1;32m    220\u001b[0m         \u001b[0mevaluation_result_list\u001b[0m \u001b[0;34m=\u001b[0m \u001b[0;34m[\u001b[0m\u001b[0;34m]\u001b[0m\u001b[0;34m\u001b[0m\u001b[0;34m\u001b[0m\u001b[0m\n",
            "\u001b[0;32m/usr/local/lib/python3.7/dist-packages/lightgbm/basic.py\u001b[0m in \u001b[0;36mupdate\u001b[0;34m(self, train_set, fobj)\u001b[0m\n\u001b[1;32m   1800\u001b[0m             _safe_call(_LIB.LGBM_BoosterUpdateOneIter(\n\u001b[1;32m   1801\u001b[0m                 \u001b[0mself\u001b[0m\u001b[0;34m.\u001b[0m\u001b[0mhandle\u001b[0m\u001b[0;34m,\u001b[0m\u001b[0;34m\u001b[0m\u001b[0;34m\u001b[0m\u001b[0m\n\u001b[0;32m-> 1802\u001b[0;31m                 ctypes.byref(is_finished)))\n\u001b[0m\u001b[1;32m   1803\u001b[0m             \u001b[0mself\u001b[0m\u001b[0;34m.\u001b[0m\u001b[0m__is_predicted_cur_iter\u001b[0m \u001b[0;34m=\u001b[0m \u001b[0;34m[\u001b[0m\u001b[0;32mFalse\u001b[0m \u001b[0;32mfor\u001b[0m \u001b[0m_\u001b[0m \u001b[0;32min\u001b[0m \u001b[0mrange_\u001b[0m\u001b[0;34m(\u001b[0m\u001b[0mself\u001b[0m\u001b[0;34m.\u001b[0m\u001b[0m__num_dataset\u001b[0m\u001b[0;34m)\u001b[0m\u001b[0;34m]\u001b[0m\u001b[0;34m\u001b[0m\u001b[0;34m\u001b[0m\u001b[0m\n\u001b[1;32m   1804\u001b[0m             \u001b[0;32mreturn\u001b[0m \u001b[0mis_finished\u001b[0m\u001b[0;34m.\u001b[0m\u001b[0mvalue\u001b[0m \u001b[0;34m==\u001b[0m \u001b[0;36m1\u001b[0m\u001b[0;34m\u001b[0m\u001b[0;34m\u001b[0m\u001b[0m\n",
            "\u001b[0;31mKeyboardInterrupt\u001b[0m: "
          ]
        }
      ]
    },
    {
      "cell_type": "code",
      "metadata": {
        "id": "9WHiwD757REJ"
      },
      "source": [
        "weight_result = D1DBackM.predict_proba(X_source[n_source//2:,1].reshape(-1,1))[:,1]\n",
        "#weight_result = D1DBackM.predict(X_source[n_source//2:, 1])\n",
        "sample_weight_background_source = 1/((1/weight_result)-1) #manipulating equation\n",
        "\n",
        "plt.title(\"Background plots with reweighting\")\n",
        "plt.hist(X_source[n_source//2:,0], bins=50, density=1, histtype = \"step\", label=\"source background\", range = plt_range)\n",
        "plt.hist(X_target[n_target//2:,0], bins=50, density=1, histtype = \"step\", label=\"target background\", range = plt_range)\n",
        "plt.hist(X_source[n_source//2:,0], bins=50, density=1, histtype = \"step\", label=\"source background weighted\", weights = sample_weight_background_source, range = plt_range)\n",
        "plt.legend()\n",
        "plt.show()"
      ],
      "execution_count": null,
      "outputs": []
    },
    {
      "cell_type": "code",
      "metadata": {
        "id": "uIyJQjmq9RRg"
      },
      "source": [
        "plt.title(\"Background plots with reweighting\")\n",
        "plt.hist(X_source[n_source//2:,1], bins=50, density=1, histtype = \"step\", label=\"source background\", range = plt_range)\n",
        "plt.hist(X_target[n_target//2:,1], bins=50, density=1, histtype = \"step\", label=\"target background\", range = plt_range)\n",
        "plt.hist(X_source[n_source//2:,1], bins=50, density=1, histtype = \"step\", label=\"source background weighted\", weights = sample_weight_background_source, range = plt_range)\n",
        "plt.legend()\n",
        "plt.show()"
      ],
      "execution_count": null,
      "outputs": []
    },
    {
      "cell_type": "code",
      "metadata": {
        "id": "SxlWoYjg-Fzq"
      },
      "source": [
        "plt.title(\"Background plots with reweighting\")\n",
        "plt.hist(X_source[n_source//2:,2], bins=50, density=1, histtype = \"step\", label=\"source background\", range = plt_range)\n",
        "plt.hist(X_target[n_target//2:,2], bins=50, density=1, histtype = \"step\", label=\"target background\", range = plt_range)\n",
        "plt.hist(X_source[n_source//2:,2], bins=50, density=1, histtype = \"step\", label=\"source background weighted\", weights = sample_weight_background_source, range = plt_range)\n",
        "plt.legend()\n",
        "plt.show()"
      ],
      "execution_count": null,
      "outputs": []
    },
    {
      "cell_type": "code",
      "metadata": {
        "id": "8hOH14On4RJZ"
      },
      "source": [
        "sample_weight_signal_source *= sum(sample_weight_background_source)/sum(sample_weight_signal_source)\n",
        "sample_weight = np.concatenate((sample_weight_signal_source, sample_weight_background_source))\n",
        "\n",
        "shuffler = np.random.permutation(len(X_source))\n",
        "X_source_SigB = X_source[shuffler]\n",
        "y_source_SigB = Y_source[shuffler]\n",
        "sample_weight = sample_weight[shuffler]\n",
        "\n",
        "inputs = Input(shape=(X_source_SigB.shape[1],))\n",
        "Dx = Dense(32, activation=\"relu\")(inputs)\n",
        "#Dx = Dense(32, activation=\"relu\")(Dx)\n",
        "#Dx = Dense(32, activation=\"relu\")(Dx)\n",
        "Dx = Dense(1, activation=\"sigmoid\")(Dx)\n",
        "DSigB = Model(inputs=[inputs], outputs=[Dx])\n",
        "DSigB.compile(loss=\"binary_crossentropy\", optimizer=\"adam\")\n",
        "\n",
        "DSigB.fit(X_source_SigB, y_source_SigB, sample_weight = sample_weight, epochs=2)"
      ],
      "execution_count": null,
      "outputs": []
    },
    {
      "cell_type": "code",
      "metadata": {
        "id": "P2S4ljakYE9x"
      },
      "source": [
        "pred_SWonT_predSigB = DSigB.predict(X_target).ravel()\n",
        "plot_SWonT_predSigB = DSigB.predict(X_t_test).ravel()\n",
        "auc_SWonT = roc_auc_score(y_true=Y_target, y_score=pred_SWonT_predSigB)\n",
        "print(\"SWonT value: \", auc_SWonT)"
      ],
      "execution_count": null,
      "outputs": []
    },
    {
      "cell_type": "code",
      "metadata": {
        "id": "caWZ-gtYd2a0"
      },
      "source": [
        "#train a neural network for signal vs background\n",
        "shuffler = np.random.permutation(len(X_target))\n",
        "X_target_SigB = X_target[shuffler]\n",
        "y_target_SigB = Y_target[shuffler]\n",
        "\n",
        "inputs = Input(shape=(X_target_SigB.shape[1],))\n",
        "Dx = Dense(32, activation=\"relu\")(inputs)\n",
        "#Dx = Dense(32, activation=\"relu\")(Dx)\n",
        "#Dx = Dense(32, activation=\"relu\")(Dx)\n",
        "Dx = Dense(1, activation=\"sigmoid\")(Dx)\n",
        "DTSigB = Model(inputs=[inputs], outputs=[Dx])\n",
        "DTSigB.compile(loss=\"binary_crossentropy\", optimizer=\"adam\")\n",
        "\n",
        "DTSigB.fit(X_target_SigB, y_target_SigB, epochs=2)"
      ],
      "execution_count": null,
      "outputs": []
    },
    {
      "cell_type": "code",
      "metadata": {
        "id": "zNqkuKZSfRwR"
      },
      "source": [
        "pred_TonT_predSigB = DTSigB.predict(X_target).ravel()\n",
        "auc_TonT = roc_auc_score(y_true=Y_target, y_score=pred_TonT_predSigB)\n",
        "print(\"TonT value: \", auc_TonT)"
      ],
      "execution_count": null,
      "outputs": []
    },
    {
      "cell_type": "code",
      "metadata": {
        "id": "FBkEL5a9fwyl"
      },
      "source": [
        "#train a neural network for signal vs background\n",
        "shuffler = np.random.permutation(len(X_source))\n",
        "X_source_SigBS = X_source[shuffler]\n",
        "y_source_SigBS = Y_source[shuffler]\n",
        "\n",
        "inputs = Input(shape=(X_source_SigBS.shape[1],))\n",
        "Dx = Dense(32, activation=\"relu\")(inputs)\n",
        "#Dx = Dense(32, activation=\"relu\")(Dx)\n",
        "#Dx = Dense(32, activation=\"relu\")(Dx)\n",
        "Dx = Dense(1, activation=\"sigmoid\")(Dx)\n",
        "DSigBS = Model(inputs=[inputs], outputs=[Dx])\n",
        "DSigBS.compile(loss=\"binary_crossentropy\", optimizer=\"adam\")\n",
        "\n",
        "DSigBS.fit(X_source_SigBS, y_source_SigBS, epochs=2)"
      ],
      "execution_count": null,
      "outputs": []
    },
    {
      "cell_type": "code",
      "metadata": {
        "id": "FHQpO0FbhvDb"
      },
      "source": [
        "pred_SonT_predSigB = DSigBS.predict(X_target).ravel()\n",
        "auc_SonT = roc_auc_score(y_true=Y_target, y_score=pred_SonT_predSigB)\n",
        "print(\"SonT value: \", auc_SonT)"
      ],
      "execution_count": null,
      "outputs": []
    },
    {
      "cell_type": "code",
      "metadata": {
        "id": "8q1B6hvrRD8e"
      },
      "source": [
        "pip install PermutationImportancePhysics"
      ],
      "execution_count": null,
      "outputs": []
    },
    {
      "cell_type": "code",
      "metadata": {
        "id": "fSOkLPxyQ8ox"
      },
      "source": [
        "from permutationimportancephysics.PermutationImportance import PermulationImportance\n",
        "pi = PermulationImportance(model=DSigBS, X=X_target,y=Y_target,n_iterations=3,usePredict_poba=False,\n",
        "                      scoreFunction=\"AUC\")\n",
        "pi.dislayResults()"
      ],
      "execution_count": null,
      "outputs": []
    },
    {
      "cell_type": "code",
      "metadata": {
        "id": "F17wMQWLRzJR"
      },
      "source": [
        "plt = pi.plotBars()\n",
        "plt.show()"
      ],
      "execution_count": null,
      "outputs": []
    },
    {
      "cell_type": "code",
      "metadata": {
        "id": "3AlrN6q2OTIw"
      },
      "source": [
        "from permutationimportancephysics.PermutationImportance import PermulationImportance\n",
        "pi = PermulationImportance(model=DSigBS, X=X_source,y=Y_source,n_iterations=3,usePredict_poba=False,\n",
        "                      scoreFunction=\"AUC\")\n",
        "pi.dislayResults()"
      ],
      "execution_count": null,
      "outputs": []
    },
    {
      "cell_type": "code",
      "metadata": {
        "id": "HmQqM6ssOTj1"
      },
      "source": [
        "plt = pi.plotBars()\n",
        "plt.show()"
      ],
      "execution_count": null,
      "outputs": []
    },
    {
      "cell_type": "code",
      "metadata": {
        "id": "flP5_qXo2E6n"
      },
      "source": [
        "DSigBSgb = lgb.LGBMClassifier(\n",
        "       objective='binary')\n",
        "DSigBSgb.fit(X_source_SigBS, y_source_SigBS)"
      ],
      "execution_count": null,
      "outputs": []
    },
    {
      "cell_type": "code",
      "metadata": {
        "id": "E3TBcNh63RFQ"
      },
      "source": [
        "pred_SigBSgb = DSigBSgb.predict_proba(X_target)[:,1]\n",
        "auc_SonTgb = roc_auc_score(y_true=Y_target, y_score=pred_SigBSgb)\n",
        "print(\"SonT value: \", auc_SonTgb)"
      ],
      "execution_count": null,
      "outputs": []
    },
    {
      "cell_type": "code",
      "metadata": {
        "id": "bSCcH0Ii47A4"
      },
      "source": [
        "from sklearn.discriminant_analysis import LinearDiscriminantAnalysis\n",
        "augmented_model = LinearDiscriminantAnalysis(solver=\"svd\", store_covariance=True)"
      ],
      "execution_count": null,
      "outputs": []
    },
    {
      "cell_type": "code",
      "metadata": {
        "id": "gXbUeOVu5QFp"
      },
      "source": [
        "#train model\n",
        "augmented_model.fit(X_source_SigBS, y_source_SigBS)\n",
        "Y_predict_augOnSys = augmented_model.predict_proba(X_target)[:,1]\n",
        "auc_SonTa = roc_auc_score(y_true=Y_target, y_score=Y_predict_augOnSys)\n",
        "print(\"SonT value: \", auc_SonTa)"
      ],
      "execution_count": null,
      "outputs": []
    },
    {
      "cell_type": "code",
      "metadata": {
        "id": "K2bEyzBB6G3T"
      },
      "source": [
        "Y_predict_augSonS = augmented_model.predict_proba(X_source)[:,1]\n",
        "auc_SonSa = roc_auc_score(y_true=Y_source, y_score=Y_predict_augSonS)\n",
        "print(\"SonS value: \", auc_SonSa)"
      ],
      "execution_count": null,
      "outputs": []
    },
    {
      "cell_type": "code",
      "metadata": {
        "id": "piO91vTUWIA2"
      },
      "source": [
        "#ADABoost\n",
        "from sklearn.ensemble import AdaBoostClassifier\n",
        "adaboost = AdaBoostClassifier()\n",
        "adaboost.fit(X_source_SigBS, y_source_SigBS)"
      ],
      "execution_count": null,
      "outputs": []
    },
    {
      "cell_type": "code",
      "metadata": {
        "id": "RVyWdmpOWIf7"
      },
      "source": [
        "Y_predict_adaboost = adaboost.predict_proba(X_target)[:,1]\n",
        "auc_SonTadaboost = roc_auc_score(y_true=Y_target, y_score=Y_predict_adaboost)\n",
        "print(\"SonT value: \", auc_SonTadaboost)"
      ],
      "execution_count": null,
      "outputs": []
    },
    {
      "cell_type": "code",
      "metadata": {
        "id": "clglabIIXVB8"
      },
      "source": [
        "Y_predict_adaboost = adaboost.predict_proba(X_source)[:,1]\n",
        "auc_SonSadaboost = roc_auc_score(y_true=Y_source, y_score=Y_predict_adaboost)\n",
        "print(\"SonS value: \", auc_SonSadaboost)"
      ],
      "execution_count": null,
      "outputs": []
    },
    {
      "cell_type": "code",
      "metadata": {
        "id": "-xklkWUUR7CH"
      },
      "source": [
        "from permutationimportancephysics.PermutationImportance import PermulationImportance\n",
        "pi = PermulationImportance(model=adaboost, X=X_target,y=Y_target,n_iterations=3,usePredict_poba=True,\n",
        "                      scoreFunction=\"AUC\")\n",
        "pi.dislayResults()"
      ],
      "execution_count": null,
      "outputs": []
    },
    {
      "cell_type": "code",
      "metadata": {
        "id": "tvKipnbOR_FY"
      },
      "source": [
        "plt = pi.plotBars()\n",
        "plt.show()"
      ],
      "execution_count": null,
      "outputs": []
    },
    {
      "cell_type": "code",
      "metadata": {
        "id": "u_XU5ghDOMN8"
      },
      "source": [
        "pi = PermulationImportance(model=adaboost, X=X_source,y=Y_source,n_iterations=3,usePredict_poba=True,\n",
        "                      scoreFunction=\"AUC\")\n",
        "pi.dislayResults()"
      ],
      "execution_count": null,
      "outputs": []
    },
    {
      "cell_type": "code",
      "metadata": {
        "id": "litYqI8fOQfv"
      },
      "source": [
        "plt = pi.plotBars()\n",
        "plt.show()"
      ],
      "execution_count": null,
      "outputs": []
    },
    {
      "cell_type": "code",
      "metadata": {
        "id": "d6oC11kYVyz1"
      },
      "source": [
        "#SVM models\n",
        "'''\n",
        "from sklearn import svm\n",
        "linsvm = svm.SVC(kernel = 'linear')\n",
        "linsvm.fit(X_source_SigBS, y_source_SigBS)\n",
        "'''"
      ],
      "execution_count": null,
      "outputs": []
    },
    {
      "cell_type": "code",
      "metadata": {
        "id": "eLGl5cviV4Kx"
      },
      "source": [
        "'''\n",
        "Y_predict_linsvm = linsvm.predict_proba(X_target)[:,1]\n",
        "auc_SonTlinsvm = roc_auc_score(y_true=Y_target, y_score=Y_predict_linsvm)\n",
        "print(\"SonT value: \", auc_SonTlinsvm)\n",
        "'''"
      ],
      "execution_count": null,
      "outputs": []
    },
    {
      "cell_type": "code",
      "metadata": {
        "id": "phSZbYSeV-_X"
      },
      "source": [
        "'''\n",
        "Y_predict_linsvm = linsvm.predict_proba(X_source)[:,1]\n",
        "auc_SonSlinsvm = roc_auc_score(y_true=Y_source, y_score=Y_predict_linsvm)\n",
        "print(\"SonS value: \", auc_SonSlinsvm)\n",
        "'''"
      ],
      "execution_count": null,
      "outputs": []
    },
    {
      "cell_type": "code",
      "metadata": {
        "id": "nxPoi7jXGJI3"
      },
      "source": [
        "'''\n",
        "rbmsvm = svm.SVC()\n",
        "rbmsvm.fit(X_source_SigBS, y_source_SigBS)\n",
        "'''"
      ],
      "execution_count": null,
      "outputs": []
    },
    {
      "cell_type": "code",
      "metadata": {
        "id": "V9GsTmmLIsGt"
      },
      "source": [
        "'''\n",
        "Y_predict_rbmsvm = rbmsvm.predict_proba(X_target)[:,1]\n",
        "auc_SonTrbmsvm = roc_auc_score(y_true=Y_target, y_score=Y_predict_rbmsvm)\n",
        "print(\"SonT value: \", auc_SonTrbmsvm)\n",
        "'''"
      ],
      "execution_count": null,
      "outputs": []
    },
    {
      "cell_type": "code",
      "metadata": {
        "id": "Q-NeCmmSJQ03"
      },
      "source": [
        "'''\n",
        "Y_predict_rbmsvm = rbmsvm.predict_proba(X_source)[:,1]\n",
        "auc_SonSrbmsvm = roc_auc_score(y_true=Y_source, y_score=Y_predict_rbmsvm)\n",
        "print(\"SonS value: \", auc_SonSrbmsvm)\n",
        "'''"
      ],
      "execution_count": null,
      "outputs": []
    },
    {
      "cell_type": "markdown",
      "metadata": {
        "id": "0m0f5jRmxJmP"
      },
      "source": [
        "# Train on Source Distribution"
      ]
    },
    {
      "cell_type": "code",
      "metadata": {
        "id": "AckcwNJPxJmQ"
      },
      "source": [
        "from tensorflow import keras\n",
        "from tensorflow.keras.layers import Input, Dense\n",
        "from tensorflow.keras.models import Model\n",
        "from sklearn.metrics import roc_auc_score\n",
        "\n",
        "\n",
        "#@TODO: check other activations in Andreas, Gilles pivot\n",
        "inputs = Input(shape=(X_s_train.shape[1],))\n",
        "Dx = Dense(32, activation=\"relu\")(inputs)\n",
        "#Dx = Dense(32, activation=\"relu\")(Dx)\n",
        "#Dx = Dense(32, activation=\"relu\")(Dx)\n",
        "Dx = Dense(1, activation=\"sigmoid\")(Dx)\n",
        "DSnn = Model(inputs=[inputs], outputs=[Dx])\n",
        "DSnn.compile(loss=\"binary_crossentropy\", optimizer=\"adam\")\n",
        "\n",
        "DSnn.fit(X_s_train, y_s_train, epochs=2)"
      ],
      "execution_count": null,
      "outputs": []
    },
    {
      "cell_type": "code",
      "metadata": {
        "id": "IIz6tB_PWHxX"
      },
      "source": [
        "from sklearn.metrics import roc_auc_score\n",
        "y_SonS_prednn = DSnn.predict(X_s_test).ravel()\n",
        "y_SonT_prednn = DSnn.predict(X_t_test).ravel()\n",
        "y_SonS_pred_train = DSnn.predict(X_s_train).ravel()\n",
        "auc_test_SonSnn = roc_auc_score(y_true=y_s_test, y_score=y_SonS_prednn,)\n",
        "auc_test_SonTnn = roc_auc_score(y_true=y_t_test, y_score=y_SonT_prednn,)\n",
        "print (auc_test_SonSnn, auc_test_SonTnn)"
      ],
      "execution_count": null,
      "outputs": []
    },
    {
      "cell_type": "code",
      "metadata": {
        "id": "APwhXr2WXSDX"
      },
      "source": [
        "y_SonT_prednnfull = DSnn.predict(X_target).ravel()\n",
        "auc_test_SonTnnfull = roc_auc_score(y_true=Y_target, y_score=y_SonT_prednnfull,)\n",
        "print(auc_test_SonTnnfull)"
      ],
      "execution_count": null,
      "outputs": []
    },
    {
      "cell_type": "code",
      "metadata": {
        "id": "vq_agokFX4Fg"
      },
      "source": [
        "plot_profile(y_SonS_prednn, X_s_test[:,1], bins=30)\n",
        "plot_profile(y_SonT_prednn, X_t_test[:,1], bins=30)\n",
        "plt.show()"
      ],
      "execution_count": null,
      "outputs": []
    },
    {
      "cell_type": "code",
      "metadata": {
        "id": "qbfe-ddqRgCy"
      },
      "source": [
        "# analytical solution\n",
        "'''\n",
        "if not useSquareF2:\n",
        "    class clf_S:\n",
        "        def __init__(self,in_f1Gparams):\n",
        "            self.in_f1Gparams = in_f1Gparams\n",
        "\n",
        "        def predict(self,X):\n",
        "            from scipy.stats import norm\n",
        "            gs = norm(self.in_f1Gparams[0] + centres_sig[1],self.in_f1Gparams[1] ).pdf\n",
        "            gb = norm(self.in_f1Gparams[0] + centres_back[1],self.in_f1Gparams[1] ).pdf\n",
        "\n",
        "            gsf1 = norm(0 + centres_sig_target[0], 1 ).pdf\n",
        "            gbf1 = norm(0 + centres_back_target[0], 1 ).pdf\n",
        "            # how to account for correlated part of f1 with f2???\n",
        "\n",
        "            # wrong.. need to accoutn for f1 dependence on f2\n",
        "            p_signal =  gs(X[:,1])* gsf1(X[:,0]) * gsf1(X[:,2])\n",
        "            p_background =  gb(X[:,1]) * gbf1(X[:,0]) * gbf1(X[ :,2])\n",
        "            score = p_signal/(p_signal + p_background)\n",
        "            return score\n",
        "    if (flipData):\n",
        "      DT = clf_S(np.array([1,1]))\n",
        "    else:\n",
        "      DS = clf_S(np.array([1,1]))\n",
        "\n",
        "else:\n",
        "    inputs = Input(shape=(X_t_train.shape[1],))\n",
        "    Dx = Dense(32, activation=\"relu\")(inputs)\n",
        "    #Dx = Dense(32, activation=\"relu\")(Dx)\n",
        "    #Dx = Dense(32, activation=\"relu\")(Dx)\n",
        "    Dx = Dense(1, activation=\"sigmoid\")(Dx)\n",
        "    DS = Model(inputs=[inputs], outputs=[Dx])\n",
        "    DS.compile(loss=\"binary_crossentropy\", optimizer=\"adam\")\n",
        "    DS.fit(X_t_train, y_t_train, epochs=3)\n",
        "  '''"
      ],
      "execution_count": null,
      "outputs": []
    },
    {
      "cell_type": "code",
      "metadata": {
        "id": "CmqPWo-wxJmR"
      },
      "source": [
        "# analytical solution\n",
        "'''\n",
        "if not useSquareF2:\n",
        "    class clf_T:\n",
        "        def __init__(self,in_f2Gparams):\n",
        "    #         from scipy.stats import norm\n",
        "    #         gs1 = norm(in_f2Gparams[0,0] + centres_sig_target[1],in_f2Gparams[0,1] ).pdf\n",
        "    #         gs2 = norm(in_f2Gparams[1,0] + centres_sig_target[1],in_f2Gparams[1,1] ).pdf\n",
        "    #         gb1 = norm(in_f2Gparams[0,0] + centres_back_target[1],in_f2Gparams[0,1] ).pdf\n",
        "    #         gb2 = norm(in_f2Gparams[1,0] + centres_back_target[1],in_f2Gparams[1,1] ).pdf\n",
        "            self.in_f2Gparams = in_f2Gparams\n",
        "\n",
        "        def predict(self,X):\n",
        "            from scipy.stats import norm\n",
        "            gs1 = norm(self.in_f2Gparams[0,0] + centres_sig_target[1],self.in_f2Gparams[0,1] ).pdf\n",
        "            gs2 = norm(self.in_f2Gparams[1,0] + centres_sig_target[1],self.in_f2Gparams[1,1] ).pdf\n",
        "            gb1 = norm(self.in_f2Gparams[0,0] + centres_back_target[1],self.in_f2Gparams[0,1] ).pdf\n",
        "            gb2 = norm(self.in_f2Gparams[1,0] + centres_back_target[1],self.in_f2Gparams[1,1] ).pdf\n",
        "\n",
        "            gsf1 = norm(0 + centres_sig_target[0], 1 ).pdf\n",
        "            gbf1 = norm(0 + centres_back_target[0], 1 ).pdf\n",
        "            # how to account for correlated part of f1 with f2???\n",
        "\n",
        "            # wrong.. need to accoutn for f1 dependence on f2\n",
        "            p_signal =  (gs1(X[:,1]) + gs2(X[:,1]))/2. * gsf1(X[:,0]) * gsf1(X[:,2])\n",
        "            p_background =  (gb1(X[:,1]) + gb2(X[:,1]))/2. * gbf1(X[:,0]) * gbf1(X[:,2])\n",
        "            score = p_signal/(p_signal + p_background)\n",
        "            return score\n",
        "    if flipData:\n",
        "      DS = clf_T(f2Gparams)\n",
        "    else:\n",
        "      DT = clf_T(f2Gparams)\n",
        "\n",
        "else:\n",
        "    inputs = Input(shape=(X_t_train.shape[1],))\n",
        "    Dx = Dense(32, activation=\"relu\")(inputs)\n",
        "    #Dx = Dense(32, activation=\"relu\")(Dx)\n",
        "    #Dx = Dense(32, activation=\"relu\")(Dx)\n",
        "    Dx = Dense(1, activation=\"sigmoid\")(Dx)\n",
        "    DT = Model(inputs=[inputs], outputs=[Dx])\n",
        "    DT.compile(loss=\"binary_crossentropy\", optimizer=\"adam\")\n",
        "    DT.fit(X_t_train, y_t_train, epochs=3)\n",
        "'''"
      ],
      "execution_count": null,
      "outputs": []
    },
    {
      "cell_type": "code",
      "metadata": {
        "id": "DIlwEnzkxJmR"
      },
      "source": [
        "'''\n",
        "if analyticalComplete:\n",
        "  from sklearn.metrics import roc_auc_score\n",
        "  y_SonS_pred = DS.predict(X_s_test).ravel()\n",
        "  y_SonT_pred = DS.predict(X_t_test).ravel()\n",
        "  auc_test_SonS = roc_auc_score(y_true=y_s_test, y_score=y_SonS_pred,)\n",
        "  auc_test_SonT = roc_auc_score(y_true=y_t_test, y_score=y_SonT_pred,)\n",
        "#print (auc_test_SonS, auc_test_SonT)\n",
        "'''"
      ],
      "execution_count": null,
      "outputs": []
    },
    {
      "cell_type": "code",
      "metadata": {
        "id": "LKUATNkZ8wID"
      },
      "source": [
        "plot_profile(y_SonS_prednn, X_s_test[:,1], bins=30)\n",
        "plot_profile(y_SonT_prednn, X_t_test[:,1], bins=30)\n",
        "plt.show()"
      ],
      "execution_count": null,
      "outputs": []
    },
    {
      "cell_type": "code",
      "metadata": {
        "id": "OCV_EDt4X_Rs"
      },
      "source": [
        "if not analyticalComplete:\n",
        "  y_SonS_pred = y_SonS_prednn\n",
        "  y_SonT_pred = y_SonT_prednn\n",
        "  auc_test_SonS = auc_test_SonSnn\n",
        "  auc_test_SonT = auc_test_SonTnn\n",
        "  DS = DSnn"
      ],
      "execution_count": null,
      "outputs": []
    },
    {
      "cell_type": "markdown",
      "metadata": {
        "id": "UdlSNrGxxJmR"
      },
      "source": [
        "# If we could train on target distribution"
      ]
    },
    {
      "cell_type": "code",
      "metadata": {
        "id": "EQWY0Syxw18-"
      },
      "source": [
        "#neural network\n",
        "\n",
        "#@TODO: check other activations in Andreas, Gilles pivot\n",
        "inputs = Input(shape=(X_t_train.shape[1],))\n",
        "Dx = Dense(32, activation=\"relu\")(inputs)\n",
        "#Dx = Dense(32, activation=\"relu\")(Dx)\n",
        "#Dx = Dense(32, activation=\"relu\")(Dx)\n",
        "Dx = Dense(1, activation=\"sigmoid\")(Dx)\n",
        "DTnn = Model(inputs=[inputs], outputs=[Dx])\n",
        "DTnn.compile(loss=\"binary_crossentropy\", optimizer=\"adam\")\n",
        "DTnn.fit(X_t_train, y_t_train, epochs=2)"
      ],
      "execution_count": null,
      "outputs": []
    },
    {
      "cell_type": "code",
      "metadata": {
        "id": "HJeDcF79ZPIP"
      },
      "source": [
        "from sklearn.metrics import roc_auc_score\n",
        "y_TonS_prednn = DTnn.predict(X_s_test).ravel()\n",
        "y_TonT_prednn = DTnn.predict(X_t_test).ravel()\n",
        "auc_test_TonSnn = roc_auc_score(y_true=y_s_test, y_score=y_TonS_prednn,)\n",
        "auc_test_TonTnn = roc_auc_score(y_true=y_t_test, y_score=y_TonT_prednn,)\n",
        "print (auc_test_TonSnn, auc_test_TonTnn)"
      ],
      "execution_count": null,
      "outputs": []
    },
    {
      "cell_type": "code",
      "metadata": {
        "id": "yr6fZTxPb8oh"
      },
      "source": [
        "plot_profile(y_TonS_prednn, X_s_test[:,1], bins=30)\n",
        "plot_profile(y_TonT_prednn, X_t_test[:,1], bins=30)\n",
        "plt.show()"
      ],
      "execution_count": null,
      "outputs": []
    },
    {
      "cell_type": "code",
      "metadata": {
        "id": "szogeq6PxJmS"
      },
      "source": [
        "'''\n",
        "if analyticalComplete:\n",
        "  y_TonS_pred = DT.predict(X_s_test).ravel()\n",
        "  y_TonT_pred = DT.predict(X_t_test).ravel()\n",
        "  y_TonS_pred_train = DT.predict(X_s_train).ravel()\n",
        "  auc_test_TonS = roc_auc_score(y_true=y_s_test, y_score=y_TonS_pred,)\n",
        "  auc_test_TonT = roc_auc_score(y_true=y_t_test, y_score=y_TonT_pred,)\n",
        "  print (auc_test_TonS, auc_test_TonT)\n",
        "\n",
        "  plot_profile(y_TonS_pred, X_s_test[:,1], bins=30)\n",
        "  plot_profile(y_TonT_pred, X_t_test[:,1], bins=30)\n",
        "  plt.show()\n",
        "'''"
      ],
      "execution_count": null,
      "outputs": []
    },
    {
      "cell_type": "code",
      "metadata": {
        "id": "oxU7EpfIcJ4L"
      },
      "source": [
        "if not analyticalComplete:\n",
        "  y_TonS_pred = y_TonS_prednn\n",
        "  y_TonT_pred = y_TonT_prednn\n",
        "  y_TonS_pred_train = DTnn.predict(X_s_train).ravel()\n",
        "  auc_test_TonS = auc_test_TonSnn\n",
        "  auc_test_TonT = auc_test_TonTnn\n",
        "  DT = DTnn"
      ],
      "execution_count": null,
      "outputs": []
    },
    {
      "cell_type": "code",
      "metadata": {
        "id": "hCd_G7h9xJmT"
      },
      "source": [
        "plot_profile(X_s_test[:,1], y_SonS_pred, bins=30, range=(-5,8),label=\"SonS\")\n",
        "plot_profile(X_t_test[:,1], y_TonT_pred, bins=30, range=(-5,8),label=\"TonT\")\n",
        "plt.title(\"Ideal Score vs Feature2 distribution on each datasets\")\n",
        "plt.legend()\n",
        "plt.show()\n",
        "\n"
      ],
      "execution_count": null,
      "outputs": []
    },
    {
      "cell_type": "markdown",
      "metadata": {
        "id": "IkmSF5sDxJmT"
      },
      "source": [
        "# Simulate only having info on feature2 relation with decision function for target"
      ]
    },
    {
      "cell_type": "code",
      "metadata": {
        "id": "A0G5DzFCxJmT"
      },
      "source": [
        "'''\n",
        "# analytical solution:\n",
        "\n",
        "if not useSquareF2:\n",
        "    class clf_1DT:\n",
        "        def __init__(self,in_f2Gparams):\n",
        "    #         from scipy.stats import norm\n",
        "    #         gs1 = norm(in_f2Gparams[0,0] + centres_sig_target[1],in_f2Gparams[0,1] ).pdf\n",
        "    #         gs2 = norm(in_f2Gparams[1,0] + centres_sig_target[1],in_f2Gparams[1,1] ).pdf\n",
        "    #         gb1 = norm(in_f2Gparams[0,0] + centres_back_target[1],in_f2Gparams[0,1] ).pdf\n",
        "    #         gb2 = norm(in_f2Gparams[1,0] + centres_back_target[1],in_f2Gparams[1,1] ).pdf\n",
        "            self.in_f2Gparams = in_f2Gparams\n",
        "\n",
        "        def predict(self,X):\n",
        "            from scipy.stats import norm\n",
        "            gs1 = norm(self.in_f2Gparams[0,0] + centres_sig_target[1],self.in_f2Gparams[0,1] ).pdf\n",
        "            gs2 = norm(self.in_f2Gparams[1,0] + centres_sig_target[1],self.in_f2Gparams[1,1] ).pdf\n",
        "            gb1 = norm(self.in_f2Gparams[0,0] + centres_back_target[1],self.in_f2Gparams[0,1] ).pdf\n",
        "            gb2 = norm(self.in_f2Gparams[1,0] + centres_back_target[1],self.in_f2Gparams[1,1] ).pdf\n",
        "\n",
        "            p_signal =  (gs1(X) + gs2(X))/2.\n",
        "            p_background =  (gb1(X) + gb2(X))/2.\n",
        "            score = p_signal/(p_signal + p_background)\n",
        "            return score\n",
        "    if flipData:\n",
        "      D1DS = clf_1DT(f2Gparams)\n",
        "    else:\n",
        "      D1DT = clf_1DT(f2Gparams)\n",
        "\n",
        "else:\n",
        "    inputs1d = Input(shape=(1,))\n",
        "    Dx = Dense(32, activation=\"relu\", kernel_regularizer='l2', bias_regularizer='l2',)(inputs1d)\n",
        "    #Dx = Dense(32, activation=\"relu\")(Dx)\n",
        "    #Dx = Dense(32, activation=\"relu\")(Dx)\n",
        "    Dx = Dense(1, activation=\"sigmoid\", kernel_regularizer='l2', bias_regularizer='l2',)(Dx)\n",
        "    D1DT = Model(inputs=[inputs1d], outputs=[Dx])\n",
        "    D1DT.compile(loss=\"binary_crossentropy\", optimizer=\"adam\")\n",
        "    D1DT.fit(X_t_train[:,1], y_t_train, epochs=2)\n",
        "\n",
        "'''"
      ],
      "execution_count": null,
      "outputs": []
    },
    {
      "cell_type": "code",
      "metadata": {
        "id": "8UO47_1b7Zud"
      },
      "source": [
        "'''\n",
        "# analytical solution:\n",
        "if not useSquareF2:\n",
        "    class clf_1DS:\n",
        "        def __init__(self,in_f1Gparams):\n",
        "            self.in_f1Gparams = in_f1Gparams\n",
        "\n",
        "        def predict(self,X):\n",
        "            from scipy.stats import norm\n",
        "            gs = norm(self.in_f1Gparams[0] + centres_sig[1],self.in_f1Gparams[1] ).pdf\n",
        "            gb = norm(self.in_f1Gparams[0] + centres_back[1],self.in_f1Gparams[1] ).pdf\n",
        "\n",
        "            p_signal =  gs(X)\n",
        "            p_background =  gb(X)\n",
        "            score = p_signal/(p_signal + p_background)\n",
        "            return score\n",
        "\n",
        "    if flipData:\n",
        "      D1DT = clf_1DS(np.array([1,1]))\n",
        "    else:\n",
        "      D1DS = clf_1DS(np.array([1,1]))\n",
        "\n",
        "else:\n",
        "    inputs1d = Input(shape=(1,))\n",
        "    Dx = Dense(32, activation=\"relu\", kernel_regularizer='l2', bias_regularizer='l2',)(inputs1d)\n",
        "    #Dx = Dense(32, activation=\"relu\")(Dx)\n",
        "    #Dx = Dense(32, activation=\"relu\")(Dx)\n",
        "    Dx = Dense(1, activation=\"sigmoid\", kernel_regularizer='l2', bias_regularizer='l2',)(Dx)\n",
        "    D1DS = Model(inputs=[inputs1d], outputs=[Dx])\n",
        "    D1DS.compile(loss=\"binary_crossentropy\", optimizer=\"adam\")\n",
        "    D1DS.fit(X_s_train[:,1], y_s_train, epochs=2)\n",
        "'''"
      ],
      "execution_count": null,
      "outputs": []
    },
    {
      "cell_type": "code",
      "metadata": {
        "id": "2EapbxhAxJmU"
      },
      "source": [
        "'''\n",
        "if analytical1d:\n",
        "  y_D1DTonS_pred = D1DT.predict(X_s_test[:,1]).ravel()\n",
        "  y_D1DTonT_pred = D1DT.predict(X_t_test[:,1]).ravel()\n",
        "  auc_test_D1DTonS = roc_auc_score(y_true=y_s_test, y_score=y_D1DTonS_pred,)\n",
        "  auc_test_D1DTonT = roc_auc_score(y_true=y_t_test, y_score=y_D1DTonT_pred,)\n",
        "  print (auc_test_D1DTonS, auc_test_D1DTonT)\n",
        "'''"
      ],
      "execution_count": null,
      "outputs": []
    },
    {
      "cell_type": "code",
      "metadata": {
        "id": "MNi8onnvl0o2"
      },
      "source": [
        "inputs = Input(shape=(1,))\n",
        "Dx = Dense(32, activation=\"relu\")(inputs)\n",
        "#Dx = Dense(32, activation=\"relu\")(Dx)\n",
        "#Dx = Dense(32, activation=\"relu\")(Dx)\n",
        "Dx = Dense(1, activation=\"sigmoid\")(Dx)\n",
        "D1DTnn = Model(inputs=[inputs], outputs=[Dx])\n",
        "D1DTnn.compile(loss=\"binary_crossentropy\", optimizer=\"adam\")\n",
        "\n",
        "D1DTnn.fit(X_t_train[:,1], y_t_train, epochs=2)"
      ],
      "execution_count": null,
      "outputs": []
    },
    {
      "cell_type": "code",
      "metadata": {
        "id": "dIXvnZLVmE1F"
      },
      "source": [
        "y_D1DTonS_prednn = D1DTnn.predict(X_s_test[:,1]).ravel()\n",
        "y_D1DTonT_prednn = D1DTnn.predict(X_t_test[:,1]).ravel()\n",
        "auc_test_D1DTonSnn = roc_auc_score(y_true=y_s_test, y_score=y_D1DTonS_prednn,)\n",
        "auc_test_D1DTonTnn = roc_auc_score(y_true=y_t_test, y_score=y_D1DTonT_prednn,)\n",
        "print(auc_test_D1DTonSnn, auc_test_D1DTonTnn)"
      ],
      "execution_count": null,
      "outputs": []
    },
    {
      "cell_type": "code",
      "metadata": {
        "id": "335PzUl_xJmU"
      },
      "source": [
        "plot_profile(X_t_test[:,1], y_D1DTonS_prednn, bins=30, label=\"1DTonSNN\")\n",
        "plot_profile(X_t_test[:,1], y_D1DTonT_prednn, bins=30, label=\"1DTonTNN\")\n",
        "plt.legend()\n",
        "plt.show()"
      ],
      "execution_count": null,
      "outputs": []
    },
    {
      "cell_type": "code",
      "metadata": {
        "id": "eS8JED6rviXi"
      },
      "source": [
        "plot_profile(y_TonT_pred, X_t_test[:,1], bins=30, label=\"Trained on Target\")\n",
        "plot_profile(y_D1DTonT_prednn, X_t_test[:,1], bins=30, label=\"Trained on Target Feature2\")\n",
        "plt.legend()\n",
        "plt.title(\"Profile of Score vs Feature2: Test on Target\")\n",
        "plt.show()"
      ],
      "execution_count": null,
      "outputs": []
    },
    {
      "cell_type": "code",
      "metadata": {
        "id": "-zHmZ4LvxJmU"
      },
      "source": [
        "plot_profile(X_t_test[:,1], y_TonT_pred, bins=30, range=(-5,8), label=\"Trained on Target\")\n",
        "plot_profile(X_t_test[:,1], y_D1DTonT_prednn, bins=30, range=(-5,8), label=\"Only Target Feature2\")\n",
        "plt.legend()\n",
        "plt.title(\"Profile of Score vs Feature2: Test on Target\")\n",
        "plt.show()"
      ],
      "execution_count": null,
      "outputs": []
    },
    {
      "cell_type": "code",
      "metadata": {
        "id": "IuHufAFDxJmU"
      },
      "source": [
        "def addVarianceOld(y_pred):\n",
        "    #return y_pred + np.random.uniform(-0.4,0.4,len(y_pred))\n",
        "    #return y_pred + np.random.normal(0,0.2,len(y_pred))\n",
        "    \n",
        "    extremeness = np.abs(y_pred - 0.5)\n",
        "    dist = 0.45*(0.5 - 1.*extremeness**1.5)\n",
        "    return y_pred + np.random.normal(0,dist,len(y_pred))\n",
        "\n",
        "\n",
        "#     extremeness = np.abs(y_pred - 0.5)\n",
        "#     dist = 0.4 - 1.5*extremeness**2\n",
        "#     return y_pred + np.random.uniform(-dist,dist,len(y_pred))"
      ],
      "execution_count": null,
      "outputs": []
    },
    {
      "cell_type": "code",
      "metadata": {
        "id": "cABX2rhCxZcX"
      },
      "source": [
        "def addVariance(onedy_pred, x, y_pred):\n",
        "  #onedy_pred are predictions from 1d classifier on X\n",
        "\n",
        "  #for intervals [0,0.1), [0.1, 0.2), etc. of X[:,1] (determined bins)\n",
        "  #do mean(targetypred) in interval\n",
        "  #do for each y in targetypred in interval, y - mean(targetypred)\n",
        "  #add calculation above to oned_pred index\n",
        "\n",
        "  #solution with scipy stats bins\n",
        "\n",
        "  #assuming X_t_test is x value, and y target value is y_t_test\n",
        "  bin_means, bin_edges, binnumber = scipy.stats.binned_statistic(x[:,1], y_pred, bins=100, statistic='mean')\n",
        "  onedcy_pred = onedy_pred.copy()\n",
        "  \n",
        "  for i in range(len(onedcy_pred)):\n",
        "    onedcy_pred[i] += y_pred[i]\n",
        "    onedcy_pred[i] -= bin_means[binnumber[i]-1]\n",
        "\n",
        "  return onedcy_pred\n",
        "\n",
        "\n"
      ],
      "execution_count": null,
      "outputs": []
    },
    {
      "cell_type": "code",
      "metadata": {
        "id": "ul-CBCKgxJmV"
      },
      "source": [
        "plot_profile(X_t_test[:,1], y_TonT_prednn, bins=30, range=(-5,8), errorBars=False, label=\"Trained on Target\")\n",
        "plot_profile(X_t_test[:,1], addVariance(y_D1DTonT_prednn, X_s_test, y_SonS_pred), bins=30, range=(-5,8), errorBars=False, label=\"Only Target Feature2\", offset = 0.1)\n",
        "plt.legend()\n",
        "plt.title(\"Profile of Score vs Feature2: Test on Target\")\n",
        "plt.show()"
      ],
      "execution_count": null,
      "outputs": []
    },
    {
      "cell_type": "code",
      "metadata": {
        "id": "fqsgCOxi5ic0"
      },
      "source": [
        "plot_profile(X_t_test[:,1], y_TonT_prednn, bins=30, range=(-5,8), errorBars=False, label=\"Trained on Target\")\n",
        "plot_profile(X_t_test[:,1], addVariance(y_D1DTonT_prednn, X_t_test, y_TonT_pred), bins=30, range=(-5,8), errorBars=False, label=\"Only Target Feature2\", offset = 0.1)\n",
        "plt.legend()\n",
        "plt.title(\"Profile of Score vs Feature2: Test on Target\")\n",
        "plt.show()"
      ],
      "execution_count": null,
      "outputs": []
    },
    {
      "cell_type": "code",
      "metadata": {
        "id": "CrCqkfDVtNSf"
      },
      "source": [
        "plot_profile(X_t_test[:,1], y_TonT_pred, bins=30, range=(-5,8), errorBars=False, label=\"Target\")\n",
        "plot_profile(X_s_test[:,1], y_SonS_pred, bins=30, range=(-5,8), errorBars=False, label=\"Source\")\n",
        "plt.legend()\n",
        "plt.title(\"Profile of Score vs Feature2: Source vs Target\")\n",
        "plt.show()\n"
      ],
      "execution_count": null,
      "outputs": []
    },
    {
      "cell_type": "code",
      "metadata": {
        "id": "4YptsQ9txJmV"
      },
      "source": [
        "plot_profile(X_t_test[:,1], y_TonT_pred, bins=30, range=(-5,8), errorBars=False, label=\"Trained on Target\")\n",
        "plot_profile(X_t_test[:,1], y_D1DTonT_prednn, bins=30, range=(-5,8), errorBars=False, label=\"Only Target Feature2\")\n",
        "plt.legend()\n",
        "plt.title(\"Profile of Score vs Feature2: Test on Target\")\n",
        "plt.show()\n",
        "print (\"overshoots at the edges, needs to be a function of x ideally\")"
      ],
      "execution_count": null,
      "outputs": []
    },
    {
      "cell_type": "code",
      "metadata": {
        "id": "C3XrfiJixJmV"
      },
      "source": [
        "plot_profile(X_s_test[:,1],y_SonS_pred, bins=30, range=(-1,7), label=\"Trained on Source\")\n",
        "plot_profile(X_t_test[:,1],y_D1DTonT_prednn, bins=30, range=(-1,7), label=\"Only Target Feature2\")\n",
        "plt.legend()\n",
        "plt.title(\"Profile of Score vs Feature2: Test on Target\")\n",
        "plt.show()"
      ],
      "execution_count": null,
      "outputs": []
    },
    {
      "cell_type": "code",
      "metadata": {
        "id": "zgLasN-nee2U"
      },
      "source": [
        "if not analytical1d:\n",
        "  y_D1DTonS_pred = y_D1DTonS_prednn\n",
        "  y_D1DTonT_pred = y_D1DTonT_prednn\n",
        "  auc_test_D1DTonS = auc_test_D1DTonSnn\n",
        "  auc_test_D1DTonT = auc_test_D1DTonTnn\n",
        "  D1DT = D1DTnn"
      ],
      "execution_count": null,
      "outputs": []
    },
    {
      "cell_type": "markdown",
      "metadata": {
        "id": "r8Zyjk8z7eHB"
      },
      "source": [
        "Creating Analytical Source Classifier"
      ]
    },
    {
      "cell_type": "code",
      "metadata": {
        "id": "YWFC7ORfDYFj"
      },
      "source": [
        "'''\n",
        "if analytical1d:\n",
        "  y_D1DSonS_pred = D1DS.predict(X_s_test[:,1]).ravel()\n",
        "  y_D1DSonT_pred = D1DS.predict(X_t_test[:,1]).ravel()\n",
        "  auc_test_D1DSonS = roc_auc_score(y_true=y_s_test, y_score=y_D1DSonS_pred,)\n",
        "  auc_test_D1DSonT = roc_auc_score(y_true=y_t_test, y_score=y_D1DSonT_pred,)\n",
        "  print (auc_test_D1DSonS, auc_test_D1DSonT)\n",
        "'''"
      ],
      "execution_count": null,
      "outputs": []
    },
    {
      "cell_type": "code",
      "metadata": {
        "id": "2rAuCoQ9ELc7"
      },
      "source": [
        "'''\n",
        "if analytical1d:\n",
        "  plot_profile(X_t_test[:,1], y_SonT_pred, bins=30, range=(-5,8), label=\"Trained on Target\")\n",
        "  plot_profile(X_t_test[:,1], y_D1DSonT_pred, bins=30, range=(-5,8), label=\"Only Target Feature2\")\n",
        "  print()\n",
        "'''"
      ],
      "execution_count": null,
      "outputs": []
    },
    {
      "cell_type": "code",
      "metadata": {
        "id": "DJi4Sn4EE4vy"
      },
      "source": [
        "inputs = Input(shape=(1,))\n",
        "Dx = Dense(32, activation=\"relu\")(inputs)\n",
        "#Dx = Dense(32, activation=\"relu\")(Dx)\n",
        "#Dx = Dense(32, activation=\"relu\")(Dx)\n",
        "Dx = Dense(1, activation=\"sigmoid\")(Dx)\n",
        "D1DSnn = Model(inputs=[inputs], outputs=[Dx])\n",
        "D1DSnn.compile(loss=\"binary_crossentropy\", optimizer=\"adam\")\n",
        "\n",
        "D1DSnn.fit(X_s_train[:,1], y_s_train, epochs=2, validation_data = (X_t_train[:,1], y_t_train))"
      ],
      "execution_count": null,
      "outputs": []
    },
    {
      "cell_type": "code",
      "metadata": {
        "id": "GlvVteozHc0g"
      },
      "source": [
        "y_D1DSonT_prednn = D1DSnn.predict(X_t_test[:,1]).ravel()\n",
        "y_D1DSonS_prednn = D1DSnn.predict(X_s_test[:,1]).ravel()\n",
        "auc_test_D1DSonTnn = roc_auc_score(y_true=y_t_test, y_score=y_D1DSonT_prednn,)\n",
        "auc_test_D1DSonSnn = roc_auc_score(y_true=y_s_test, y_score=y_D1DSonS_prednn,)\n",
        "print(auc_test_D1DSonSnn, auc_test_D1DSonTnn)"
      ],
      "execution_count": null,
      "outputs": []
    },
    {
      "cell_type": "code",
      "metadata": {
        "id": "kugmT5U9EEBn"
      },
      "source": [
        "plot_profile(X_t_test[:,1], y_SonT_prednn, bins=30, range=(-5,8), label=\"Trained on Target\")\n",
        "plot_profile(X_t_test[:,1], y_D1DSonT_prednn, bins=30, range=(-5,8), label=\"Only Target Feature2\")"
      ],
      "execution_count": null,
      "outputs": []
    },
    {
      "cell_type": "code",
      "metadata": {
        "id": "Hj6cvDD4DimQ"
      },
      "source": [
        "plot_profile(X_s_test[:,1], y_D1DSonS_prednn, bins=30, label=\"1DSonSnn\")\n",
        "plot_profile(X_t_test[:,1], y_D1DSonT_prednn, bins=30, label=\"1DSonTnn\")\n",
        "\n",
        "plt.legend()\n",
        "plt.show()"
      ],
      "execution_count": null,
      "outputs": []
    },
    {
      "cell_type": "code",
      "metadata": {
        "id": "8Rz4vRIvFL_3"
      },
      "source": [
        "plot_profile(X_t_test[:,1], y_SonT_pred, bins=30, range=(-5,8), errorBars=False, label=\"Trained on Source\")\n",
        "plot_profile(X_t_test[:,1], addVariance(y_D1DSonT_prednn, X_s_test, y_SonS_pred), bins=30, range=(-5,8), errorBars=False, label=\"Only Source Feature2\")\n",
        "plt.legend()\n",
        "plt.title(\"Profile of Score vs Feature2: Test on Target\")\n",
        "plt.show()"
      ],
      "execution_count": null,
      "outputs": []
    },
    {
      "cell_type": "code",
      "metadata": {
        "id": "30bDAhfeg01J"
      },
      "source": [
        "if not analytical1d:\n",
        "  y_D1DSonS_pred = y_D1DSonS_prednn\n",
        "  y_D1DSonT_pred = y_D1DSonT_prednn\n",
        "  auc_test_D1DSonS = auc_test_D1DSonSnn\n",
        "  auc_test_D1DSonT = auc_test_D1DSonTnn\n",
        "  D1DS = D1DSnn"
      ],
      "execution_count": null,
      "outputs": []
    },
    {
      "cell_type": "markdown",
      "metadata": {
        "id": "uU5SHgk57U2X"
      },
      "source": [
        "Analytical Function below\n"
      ]
    },
    {
      "cell_type": "code",
      "metadata": {
        "id": "U2uD8Z7t6ZEp"
      },
      "source": [
        "#if we were marginalizing\n",
        "\"\"\"\n",
        "  #marginalization process - first need to get dictionary of total values given mass, and count of mass\n",
        "  sumcount_dict = {}\n",
        "  for i in range(len(X)):\n",
        "    if X[i][1] not in sumcount_dict.keys():\n",
        "      sumcount_dict[X[i][1]] = [y_DS_pred[i], 1]\n",
        "    else:\n",
        "      sumcount_dict[X[i][1]][0] += y_DS_pred[i]\n",
        "      sumcount_dict[X[i][1]][1] += 1\n",
        "  \n",
        "  #now we create y values given the mass\n",
        "  y_D1DS_pred = np.zeros(len(y_D1DT_pred))\n",
        "  for i in range(len(X)):\n",
        "    y_D1DS_pred[i] = sumcount_dict[X[i][1]][0]/sumcount_dict[X[i][1]][1]\n",
        "  \n",
        "  r_D1DS_pred = y_D1DS_pred/(1-y_D1DS_pred)\n",
        "  \"\"\""
      ],
      "execution_count": null,
      "outputs": []
    },
    {
      "cell_type": "code",
      "metadata": {
        "id": "ted8C1kxZOCc"
      },
      "source": [
        "#Doing our analytical function\n",
        "#takes in x values (features and their values), DS - source classifier, D1DT - target classifier on 1D\n",
        "def analyticalsignal(DS, D1DT, X):\n",
        "  #calculating ratio values\n",
        "  y_DS_pred = DS.predict(X).ravel()\n",
        "  epsilon = 10**(-7) #-7\n",
        "  r_DS_pred = y_DS_pred/(epsilon+1-y_DS_pred)\n",
        "\n",
        "  y_D1DT_pred = D1DT.predict(X[:,1]).ravel()\n",
        "\n",
        "  r_D1DT_pred = y_D1DT_pred/(epsilon+1-y_D1DT_pred)\n",
        "\n",
        "  y_D1DS_pred = D1DS.predict(X[:,1]).ravel()\n",
        "\n",
        "  r_D1DS_pred = y_D1DS_pred/(epsilon+1-y_D1DS_pred)\n",
        "\n",
        "  r_analytical_pred = r_DS_pred * (r_D1DT_pred/(epsilon+r_D1DS_pred))\n",
        "\n",
        "  #plot_profile(X[:,1], y_DS_pred, bins=30, range=(-5,8), errorBars=False, label=\"Trained on Source\")\n",
        "  #plot_profile(X[:,1], y_D1DS_pred, bins=30, range=(-5,8), errorBars=False, label=\"Only Source Feature2\")\n",
        "\n",
        "  r_intermediate_pred = r_DS_pred/(epsilon+r_D1DS_pred)\n",
        "  y_intermediate_pred = (r_intermediate_pred/(epsilon+r_intermediate_pred+1))\n",
        "  #plot_profile(X[:,1], r_intermediate_pred, range=(-5,8), errorBars=False, label=\"plotting intermediate ratio\")\n",
        "  #plot_profile(X[:,1], y_intermediate_pred, range=(-5,8), errorBars=False, label=\"plotting intermediate\")\n",
        "  #plt.legend()\n",
        "  #plt.show()\n",
        "  \n",
        "  #converting ratio to signal\n",
        "  y_analytical_pred = (r_analytical_pred/(epsilon+r_analytical_pred + 1))\n",
        "  return y_analytical_pred\n",
        "\n",
        "\n"
      ],
      "execution_count": null,
      "outputs": []
    },
    {
      "cell_type": "code",
      "metadata": {
        "id": "qw9QYXB4oo-L"
      },
      "source": [
        "#print(len(X_t_test))\n",
        "#print(y_SonT_pred)\n",
        "#print(analyticalsignal(DS,D1DT,X_t_test))"
      ],
      "execution_count": null,
      "outputs": []
    },
    {
      "cell_type": "code",
      "metadata": {
        "id": "Y3h8U3gBGYDy"
      },
      "source": [
        "y_aS_pred = analyticalsignal(DS,D1DT,X_s_test)\n",
        "y_aT_pred = analyticalsignal(DS,D1DT,X_t_test)\n",
        "auc_test_aS = roc_auc_score(y_true=y_s_test, y_score=y_aS_pred,)\n",
        "auc_test_aT = roc_auc_score(y_true=y_t_test, y_score=y_aT_pred,)\n",
        "print (auc_test_aS, auc_test_aT)"
      ],
      "execution_count": null,
      "outputs": []
    },
    {
      "cell_type": "code",
      "metadata": {
        "id": "FVNTtdl1YWs0"
      },
      "source": [
        "plot_profile(X_s_test[y_s_test==1,1], y_SonS_pred[y_s_test==1], range=(-5,8), label=\"Trained on Source\")\n",
        "plot_profile(X_t_test[y_t_test==1,1], y_TonT_pred[y_t_test==1], range=(-5,8), label=\"Trained on Target\")\n",
        "plot_profile(X_t_test[y_t_test==1,1], y_aT_pred[y_t_test==1], range=(-5,8), label=\"Analytical\")\n",
        "plot_profile(X_t_test[y_t_test==1,1], y_D1DTonT_pred[y_t_test==1], range=(-5,8), label=\"Only Feature 2\")\n",
        "plt.ylim(0,1)\n",
        "plt.ylabel(\"NN Score\")\n",
        "plt.xlabel(\"Feature2\")\n",
        "plt.legend()\n",
        "plt.title(\"Profile of NN Score vs Feature 2 : Test on Target for Signal\")\n",
        "#plt.savefig(\"plots/Toy/profileFeature1VSScore_ST1DA.pdf\")\n",
        "plt.show()"
      ],
      "execution_count": null,
      "outputs": []
    },
    {
      "cell_type": "code",
      "metadata": {
        "id": "ZM2pNSNlD_XC"
      },
      "source": [
        "plot_profile(X_s_test[y_s_test==0,1], y_SonS_pred[y_s_test==0], range=(-5,8), label=\"Trained on Source\")\n",
        "plot_profile(X_t_test[y_t_test==0,1], y_TonT_pred[y_t_test==0], range=(-5,8), label=\"Trained on Target\")\n",
        "plot_profile(X_t_test[y_t_test==0,1], y_aT_pred[y_t_test==0], range=(-5,8), label=\"Analytical\")\n",
        "plot_profile(X_t_test[y_t_test==0,1], y_D1DTonT_pred[y_t_test==0], range=(-5,8), label=\"Only Feature 2\")\n",
        "plt.ylim(0,1)\n",
        "plt.ylabel(\"NN Score\")\n",
        "plt.xlabel(\"Feature2\")\n",
        "plt.legend()\n",
        "plt.title(\"Profile of NN Score vs Feature 2 : Test on Target for Background\")\n",
        "#plt.savefig(\"plots/Toy/profileFeature1VSScore_ST1DA.pdf\")\n",
        "plt.show()"
      ],
      "execution_count": null,
      "outputs": []
    },
    {
      "cell_type": "code",
      "metadata": {
        "id": "w3HdPWRAHM33"
      },
      "source": [
        "plot_profile(X_s_test[:,1], y_SonS_pred, range=(-5,8), label=\"Trained on Source\")\n",
        "plot_profile(X_t_test[:,1], y_TonT_pred, range=(-5,8), label=\"Trained on Target\")\n",
        "plot_profile(X_t_test[:,1], y_aT_pred, range=(-5,8), label=\"Analytical\")\n",
        "plot_profile(X_t_test[:,1], y_D1DTonT_pred, range=(-5,8), label=\"Only Feature 2\")\n",
        "plot_profile(X_t_test[:,1], plot_SWonT_predSigB, range=(-5,8), label=\"Reweighted plot\")\n",
        "plt.ylim(0,1)\n",
        "plt.ylabel(\"NN Score\")\n",
        "plt.xlabel(\"Feature2\")\n",
        "plt.legend()\n",
        "plt.title(\"Profile of NN Score vs Feature 2 : Test on Target\")\n",
        "#plt.savefig(\"plots/Toy/profileFeature1VSScore_ST1DA.pdf\")\n",
        "plt.show()"
      ],
      "execution_count": null,
      "outputs": []
    },
    {
      "cell_type": "markdown",
      "metadata": {
        "id": "BvU08mBKxJmV"
      },
      "source": [
        "# Aspiration to force new correlation"
      ]
    },
    {
      "cell_type": "code",
      "metadata": {
        "id": "ZI8EQ9LGxJmW"
      },
      "source": [
        "from tensorflow.keras.layers import Input, Dense, concatenate\n",
        "from tensorflow.keras.models import Model\n",
        "import tensorflow.keras.backend as K\n",
        "\n",
        "def make_trainable(network, flag):\n",
        "    network.trainable = flag\n",
        "    for l in network.layers:\n",
        "        l.trainable = flag\n",
        "\n",
        "inputs = Input(shape=(X_s_train.shape[1],))\n",
        "inputs_b = Input(shape=(X_s_train.shape[1],))\n",
        "inputs_s = Input(shape=(X_s_train.shape[1],))\n",
        "\n",
        "with K.name_scope('Classifier'):\n",
        "    Dx = Dense(32, activation=\"relu\")(inputs)\n",
        "    #Dx = Dense(32, activation=\"relu\")(Dx)\n",
        "    #Dx = Dense(32, activation=\"relu\")(Dx)\n",
        "    Dx = Dense(1, activation=\"sigmoid\")(Dx)\n",
        "    D = Model(inputs=[inputs], outputs=[Dx])\n",
        "#Doesnt work: loss on only the signal\n",
        "Rin1 = Input(shape=(1,))\n",
        "Rin2 = Input(shape=(1,))\n",
        "Rin = concatenate([Rin1, Rin2 ], axis=-1)\n",
        "with K.name_scope('Advers'):\n",
        "    Rx = Dense(32, activation=\"relu\")(Rin)\n",
        "    Rx = Dense(32, activation=\"relu\")(Rx)\n",
        "    Rx = Dense(32, activation=\"relu\")(Rx)\n",
        "    Rx = Dense(1, activation=\"sigmoid\")(Rx)\n",
        "    R = Model(inputs=[Rin1, Rin2], outputs=[Rx])\n",
        "\n",
        "inX = Input(shape=(X_s_train.shape[1],))\n",
        "inM = Input(shape=(1,))\n",
        "D_out_for_R = D(inX)\n",
        "R_out = R([D_out_for_R, inM])\n",
        "DC = Model(inputs=[inX, inM], outputs=[R_out])"
      ],
      "execution_count": null,
      "outputs": []
    },
    {
      "cell_type": "code",
      "metadata": {
        "id": "CrBIh9RheZ4e"
      },
      "source": [
        "#D = keras.models.load_model(\"Aspiration\")"
      ],
      "execution_count": null,
      "outputs": []
    },
    {
      "cell_type": "code",
      "metadata": {
        "id": "r5V0DhZ6xJmW"
      },
      "source": [
        "#from keras.optimizers import SGD\n",
        "from tensorflow.keras.losses import binary_crossentropy\n",
        "\n",
        "#originally 1.5\n",
        "lam = 5.0 #1.5# 3.0 #10.0 # loss trade-off (10 does best)\n",
        "\n",
        "def make_loss_D(c):\n",
        "    def loss_D(y_true, y_pred):\n",
        "        return c * K.mean(K.binary_crossentropy(y_true, y_pred), axis=-1) # new keras from 2.0.7\n",
        "    return loss_D\n",
        "\n",
        "def make_loss_R(c):\n",
        "    def loss_R(y_true, y_pred):\n",
        "        return c * binary_crossentropy(y_true, y_pred)\n",
        "    return loss_R\n",
        "\n",
        "#opt_D = SGD()\n",
        "opt_D = \"adam\"\n",
        "D.compile(loss=[make_loss_D(c=1.0)], optimizer=opt_D)\n",
        "#D.compile(loss=\"binary_crossentropy\", optimizer=opt_D)\n",
        "\n",
        "# Train D such that R loss (its c=-lam) is also minimised\n",
        "#train simultaneous? grad reversal layer...\n",
        "#opt_DRf = SGD(momentum=0.0)\n",
        "opt_DRf = \"adam\"\n",
        "\n",
        "\n",
        "DRf = Model(inputs=[inputs, Rin2], outputs=[D(inputs), DC([inputs, Rin2])])\n",
        "make_trainable(R, False)\n",
        "make_trainable(D, True)\n",
        "DRf.compile(loss=[make_loss_D(c=1.0), make_loss_R(c=-lam)], optimizer=opt_DRf)\n",
        "\n",
        "#opt_DfR = SGD(momentum=0.0)\n",
        "opt_DfR = \"adam\" \n",
        "#opt_DfR = SGD(lr=0.0000001)\n",
        "DfR = Model(inputs=[Rin1, Rin2], outputs=[R([Rin1, Rin2])])\n",
        "make_trainable(R, True)\n",
        "make_trainable(D, False)\n",
        "DfR.compile(loss=[make_loss_R(c=lam)], optimizer=opt_DfR)"
      ],
      "execution_count": null,
      "outputs": []
    },
    {
      "cell_type": "code",
      "metadata": {
        "id": "xXc9CtIVxJmW",
        "scrolled": true
      },
      "source": [
        "batch_size = 128\n",
        "#training_iterations = 20001 #51\n",
        "#91 best for source, 151 on test variance wise?\n",
        "\n",
        "training_iterations = 20001\n",
        "#training_iterations = 300 #originally 151\n",
        "#training_iterations = 101 #51\n",
        "#training_iterations = 51\n",
        "tr = 3#10\n",
        "\n",
        "corr_feature = X_s_train[:,1]\n",
        "# the aspired score dist is y_TonS_pred_train\n",
        "\n",
        "for i in range(training_iterations):\n",
        "    # Fit D\n",
        "    make_trainable(R, False)\n",
        "    make_trainable(D, True)\n",
        "    indices = np.random.permutation(len(X_s_train))[:batch_size]\n",
        "    print (\"DRf\")\n",
        "    #DRf.train_on_batch([X_s_train[indices], corr_feature[indices]], [y_s_train[indices], np.zeros(len(indices))])\n",
        "    DRf.fit([X_s_train[indices], corr_feature[indices]], [y_s_train[indices], np.zeros(len(indices))])\n",
        "    \n",
        "    # Fit R\n",
        "    make_trainable(R, True)\n",
        "    make_trainable(D, False)\n",
        "    print (\"DfR\")\n",
        "    indices_R = np.random.permutation(len(X_s_train))[:batch_size*tr]\n",
        "    d_scores = D.predict(X_s_train[indices_R])\n",
        "    #aspired_scores = D1DT.predict(X_s_train[indices_R][:,1]).reshape(-1,1)\n",
        "    aspired_scores = addVariance(D1DT.predict(X_s_train[indices_R][:,1]), X_s_train, y_TonS_pred_train).reshape(-1,1) #we are trying to output TonS with D1DT, and add corresponding variance\n",
        "\n",
        "    doubleScores = np.concatenate([d_scores, aspired_scores], axis=0)\n",
        "    doubleCorrFeature = np.concatenate([corr_feature[indices_R], corr_feature[indices_R]], axis=0)\n",
        "    realFake = np.array([0]*len(d_scores) + [1]*len(d_scores))\n",
        "    DfR.fit([doubleScores, doubleCorrFeature], realFake, batch_size=batch_size, epochs=1, verbose=1, shuffle=True)\n",
        "    #@TODO: try grad reversal layer"
      ],
      "execution_count": null,
      "outputs": []
    },
    {
      "cell_type": "code",
      "metadata": {
        "id": "_VcR1ZXGxJmW"
      },
      "source": [
        "y_AOnT_pred = D.predict(X_t_test).ravel()"
      ],
      "execution_count": null,
      "outputs": []
    },
    {
      "cell_type": "code",
      "metadata": {
        "id": "FbaGkQZvOsL5"
      },
      "source": [
        "plot_profile(X_s_test[:,1], y_SonS_pred, range=(-5,8), label=\"Trained on Source\")\n",
        "plot_profile(X_t_test[:,1], y_TonT_pred, range=(-5,8), label=\"Trained on Target\")\n",
        "plot_profile(X_t_test[:,1], y_AOnT_pred, range=(-5,8), label=\"Aspiration\")\n",
        "plt.ylim(0,1)\n",
        "plt.ylabel(\"NN Score\")\n",
        "plt.xlabel(\"Feature2\")\n",
        "plt.legend()\n",
        "plt.title(\"Profile of NN Score vs Feature 2: Test on Target\")\n",
        "#plt.savefig(\"plots/Toy/profileScoreVSFeature1.pdf\")\n",
        "plt.show()"
      ],
      "execution_count": null,
      "outputs": []
    },
    {
      "cell_type": "code",
      "metadata": {
        "id": "ttC4YE-4EduX"
      },
      "source": [
        "plot_profile(X_s_test[y_s_test==1,1], y_SonS_pred[y_s_test==1], range=(-5,8), label=\"Trained on Source\")\n",
        "plot_profile(X_t_test[y_t_test==1,1], y_TonT_pred[y_t_test==1], range=(-5,8), label=\"Trained on Target\")\n",
        "plot_profile(X_t_test[y_t_test==1,1], y_AOnT_pred[y_t_test==1], range=(-5,8), label=\"Aspiration\")\n",
        "plot_profile(X_t_test[y_t_test==1,1], y_D1DTonT_pred[y_t_test==1], range=(-5,8), label=\"Only Feature 2\")\n",
        "plot_profile(X_t_test[y_t_test==1,1], y_aT_pred[y_t_test==1], range=(-5,8), label=\"Analytical\")\n",
        "\n",
        "plt.ylim(0,1)\n",
        "plt.ylabel(\"NN Score\")\n",
        "plt.xlabel(\"Feature2\")\n",
        "plt.legend()\n",
        "plt.title(\"Profile of NN Score vs Feature 2 : Test on Target for Signal\")\n",
        "#plt.savefig(\"plots/Toy/profileFeature1VSScore_ST1DA.pdf\")\n",
        "plt.show()"
      ],
      "execution_count": null,
      "outputs": []
    },
    {
      "cell_type": "code",
      "metadata": {
        "id": "RiMKQwrREee3"
      },
      "source": [
        "plot_profile(X_s_test[y_s_test==0,1], y_SonS_pred[y_s_test==0], range=(-5,8), label=\"Trained on Source\")\n",
        "plot_profile(X_t_test[y_t_test==0,1], y_TonT_pred[y_t_test==0], range=(-5,8), label=\"Trained on Target\")\n",
        "plot_profile(X_t_test[y_t_test==0,1], y_AOnT_pred[y_t_test==0], range=(-5,8), label=\"Aspiration\")\n",
        "plot_profile(X_t_test[y_t_test==0,1], y_D1DTonT_pred[y_t_test==0], range=(-5,8), label=\"Only Feature 2\")\n",
        "plot_profile(X_t_test[y_t_test==0,1], y_aT_pred[y_t_test==0], range=(-5,8), label=\"Analytical\")\n",
        "\n",
        "plt.ylim(0,1)\n",
        "plt.ylabel(\"NN Score\")\n",
        "plt.xlabel(\"Feature2\")\n",
        "plt.legend()\n",
        "plt.title(\"Profile of NN Score vs Feature 2 : Test on Target for Signal\")\n",
        "#plt.savefig(\"plots/Toy/profileFeature1VSScore_ST1DA.pdf\")\n",
        "plt.show()"
      ],
      "execution_count": null,
      "outputs": []
    },
    {
      "cell_type": "code",
      "metadata": {
        "id": "xiKk0vRKxJmX"
      },
      "source": [
        "plot_profile(X_s_test[:,1], y_SonS_pred, range=(-5,8), label=\"Trained on Source\")\n",
        "plot_profile(X_t_test[:,1], y_TonT_pred, range=(-5,8), label=\"Trained on Target\")\n",
        "plot_profile(X_t_test[:,1], y_AOnT_pred, range=(-5,8), label=\"Aspiration\")\n",
        "plot_profile(X_t_test[:,1], y_D1DTonT_pred, range=(-5,8), label=\"Only Feature 2\")\n",
        "plot_profile(X_t_test[:,1], y_aT_pred, range=(-5,8), label=\"Analytical\")\n",
        "plot_profile(X_t_test[:,1], plot_SWonT_predSigB, range=(-5,8), label=\"Reweighted plot\")\n",
        "plt.ylim(0,1)\n",
        "plt.ylabel(\"NN Score\")\n",
        "plt.xlabel(\"Feature2\")\n",
        "plt.legend()\n",
        "plt.title(\"Profile of NN Score vs Feature 2 : Test on Target\")\n",
        "#plt.savefig(\"plots/Toy/profileFeature1VSScore_ST1DA.pdf\")\n",
        "plt.show()\n",
        "\n",
        "RunNumber = 2 #global runNumber Count\n",
        "plt.savefig(\"gdrive/MyDrive/blahvlah_Run{0}.pdf\".format(RunNumber))"
      ],
      "execution_count": null,
      "outputs": []
    },
    {
      "cell_type": "code",
      "metadata": {
        "id": "Vzqjq37VxJmX",
        "scrolled": true
      },
      "source": [
        "auc_test_AonT = roc_auc_score(y_true=y_t_test, y_score=y_AOnT_pred,)\n",
        "print (auc_test_SonT, auc_test_D1DTonT, auc_test_TonT, auc_test_AonT, auc_test_aT)"
      ],
      "execution_count": null,
      "outputs": []
    },
    {
      "cell_type": "code",
      "metadata": {
        "id": "0Z3WUrrJa5cH"
      },
      "source": [
        "#path = \"Aspiration\" \n",
        "#D.save(path)"
      ],
      "execution_count": null,
      "outputs": []
    },
    {
      "cell_type": "markdown",
      "metadata": {
        "id": "n2fkGb5dxJmX"
      },
      "source": [
        "D.save('models/D.h5')\n",
        "R.save('models/R.h5')"
      ]
    },
    {
      "cell_type": "code",
      "metadata": {
        "id": "2GSty0FSxJmX"
      },
      "source": [
        "#look over components to see why there is difference\n",
        "print(y_aT_pred)\n",
        "print(y_TonT_pred)"
      ],
      "execution_count": null,
      "outputs": []
    },
    {
      "cell_type": "code",
      "metadata": {
        "id": "CEjehQfY2M7n"
      },
      "source": [
        ""
      ],
      "execution_count": null,
      "outputs": []
    }
  ]
}